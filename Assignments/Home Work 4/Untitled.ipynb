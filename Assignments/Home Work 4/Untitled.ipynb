{
 "cells": [
  {
   "cell_type": "code",
   "execution_count": 1,
   "metadata": {},
   "outputs": [
    {
     "data": {
      "text/html": [
       "<div>\n",
       "<style>\n",
       "    .dataframe thead tr:only-child th {\n",
       "        text-align: right;\n",
       "    }\n",
       "\n",
       "    .dataframe thead th {\n",
       "        text-align: left;\n",
       "    }\n",
       "\n",
       "    .dataframe tbody tr th {\n",
       "        vertical-align: top;\n",
       "    }\n",
       "</style>\n",
       "<table border=\"1\" class=\"dataframe\">\n",
       "  <thead>\n",
       "    <tr style=\"text-align: right;\">\n",
       "      <th></th>\n",
       "      <th>Class label</th>\n",
       "      <th>Alcohol</th>\n",
       "      <th>Malic acid</th>\n",
       "    </tr>\n",
       "  </thead>\n",
       "  <tbody>\n",
       "    <tr>\n",
       "      <th>0</th>\n",
       "      <td>1</td>\n",
       "      <td>14.23</td>\n",
       "      <td>1.71</td>\n",
       "    </tr>\n",
       "    <tr>\n",
       "      <th>1</th>\n",
       "      <td>1</td>\n",
       "      <td>13.20</td>\n",
       "      <td>1.78</td>\n",
       "    </tr>\n",
       "    <tr>\n",
       "      <th>2</th>\n",
       "      <td>1</td>\n",
       "      <td>13.16</td>\n",
       "      <td>2.36</td>\n",
       "    </tr>\n",
       "    <tr>\n",
       "      <th>3</th>\n",
       "      <td>1</td>\n",
       "      <td>14.37</td>\n",
       "      <td>1.95</td>\n",
       "    </tr>\n",
       "    <tr>\n",
       "      <th>4</th>\n",
       "      <td>1</td>\n",
       "      <td>13.24</td>\n",
       "      <td>2.59</td>\n",
       "    </tr>\n",
       "  </tbody>\n",
       "</table>\n",
       "</div>"
      ],
      "text/plain": [
       "   Class label  Alcohol  Malic acid\n",
       "0            1    14.23        1.71\n",
       "1            1    13.20        1.78\n",
       "2            1    13.16        2.36\n",
       "3            1    14.37        1.95\n",
       "4            1    13.24        2.59"
      ]
     },
     "execution_count": 1,
     "metadata": {},
     "output_type": "execute_result"
    }
   ],
   "source": [
    "import pandas as pd\n",
    "import numpy as np\n",
    "\n",
    "df = pd.io.parsers.read_csv(\n",
    "    'https://raw.githubusercontent.com/rasbt/pattern_classification/master/data/wine_data.csv',\n",
    "     header=None,\n",
    "     usecols=[0,1,2]\n",
    "    )\n",
    "\n",
    "df.columns=['Class label', 'Alcohol', 'Malic acid']\n",
    "\n",
    "df.head()"
   ]
  },
  {
   "cell_type": "code",
   "execution_count": 2,
   "metadata": {
    "collapsed": true
   },
   "outputs": [],
   "source": [
    "from sklearn import preprocessing\n",
    "\n",
    "std_scale = preprocessing.StandardScaler().fit(df[['Alcohol', 'Malic acid']])\n",
    "df_std = std_scale.transform(df[['Alcohol', 'Malic acid']])\n",
    "\n",
    "minmax_scale = preprocessing.MinMaxScaler().fit(df[['Alcohol', 'Malic acid']])\n",
    "df_minmax = minmax_scale.transform(df[['Alcohol', 'Malic acid']])"
   ]
  },
  {
   "cell_type": "code",
   "execution_count": 3,
   "metadata": {},
   "outputs": [
    {
     "name": "stdout",
     "output_type": "stream",
     "text": [
      "Mean after standardization:\n",
      "Alcohol=-0.00, Malic acid=-0.00\n",
      "\n",
      "Standard deviation after standardization:\n",
      "Alcohol=1.00, Malic acid=1.00\n"
     ]
    }
   ],
   "source": [
    "print('Mean after standardization:\\nAlcohol={:.2f}, Malic acid={:.2f}'\n",
    "      .format(df_std[:,0].mean(), df_std[:,1].mean()))\n",
    "print('\\nStandard deviation after standardization:\\nAlcohol={:.2f}, Malic acid={:.2f}'\n",
    "      .format(df_std[:,0].std(), df_std[:,1].std()))"
   ]
  },
  {
   "cell_type": "code",
   "execution_count": 6,
   "metadata": {},
   "outputs": [
    {
     "name": "stdout",
     "output_type": "stream",
     "text": [
      "Min-value after min-max scaling:\n",
      "Alcohol=0.00, Malic acid=0.00\n",
      "\n",
      "Max-value after min-max scaling:\n",
      "Alcohol=1.00, Malic acid=1.00\n"
     ]
    }
   ],
   "source": [
    "print('Min-value after min-max scaling:\\nAlcohol={:.2f}, Malic acid={:.2f}'\n",
    "      .format(df_minmax[:,0].min(), df_minmax[:,1].min()))\n",
    "print('\\nMax-value after min-max scaling:\\nAlcohol={:.2f}, Malic acid={:.2f}'\n",
    "      .format(df_minmax[:,0].max(), df_minmax[:,1].max()))"
   ]
  },
  {
   "cell_type": "code",
   "execution_count": 9,
   "metadata": {},
   "outputs": [
    {
     "name": "stdout",
     "output_type": "stream",
     "text": [
      "Using matplotlib backend: Qt5Agg\n"
     ]
    }
   ],
   "source": [
    "%matplotlib "
   ]
  },
  {
   "cell_type": "code",
   "execution_count": 10,
   "metadata": {},
   "outputs": [
    {
     "name": "stderr",
     "output_type": "stream",
     "text": [
      "Traceback (most recent call last):\n",
      "  File \"C:\\Users\\usuario\\Anaconda3\\envs\\Python2\\lib\\site-packages\\matplotlib\\backends\\backend_qt5agg.py\", line 197, in __draw_idle_agg\n",
      "    FigureCanvasAgg.draw(self)\n",
      "  File \"C:\\Users\\usuario\\Anaconda3\\envs\\Python2\\lib\\site-packages\\matplotlib\\backends\\backend_agg.py\", line 464, in draw\n",
      "    self.figure.draw(self.renderer)\n",
      "  File \"C:\\Users\\usuario\\Anaconda3\\envs\\Python2\\lib\\site-packages\\matplotlib\\artist.py\", line 63, in draw_wrapper\n",
      "    draw(artist, renderer, *args, **kwargs)\n",
      "  File \"C:\\Users\\usuario\\Anaconda3\\envs\\Python2\\lib\\site-packages\\matplotlib\\figure.py\", line 1144, in draw\n",
      "    renderer, self, dsu, self.suppressComposite)\n",
      "  File \"C:\\Users\\usuario\\Anaconda3\\envs\\Python2\\lib\\site-packages\\matplotlib\\image.py\", line 139, in _draw_list_compositing_images\n",
      "    a.draw(renderer)\n",
      "  File \"C:\\Users\\usuario\\Anaconda3\\envs\\Python2\\lib\\site-packages\\matplotlib\\artist.py\", line 63, in draw_wrapper\n",
      "    draw(artist, renderer, *args, **kwargs)\n",
      "  File \"C:\\Users\\usuario\\Anaconda3\\envs\\Python2\\lib\\site-packages\\matplotlib\\axes\\_base.py\", line 2426, in draw\n",
      "    mimage._draw_list_compositing_images(renderer, self, dsu)\n",
      "  File \"C:\\Users\\usuario\\Anaconda3\\envs\\Python2\\lib\\site-packages\\matplotlib\\image.py\", line 139, in _draw_list_compositing_images\n",
      "    a.draw(renderer)\n",
      "  File \"C:\\Users\\usuario\\Anaconda3\\envs\\Python2\\lib\\site-packages\\matplotlib\\artist.py\", line 63, in draw_wrapper\n",
      "    draw(artist, renderer, *args, **kwargs)\n",
      "  File \"C:\\Users\\usuario\\Anaconda3\\envs\\Python2\\lib\\site-packages\\matplotlib\\legend.py\", line 471, in draw\n",
      "    bbox = self._legend_box.get_window_extent(renderer)\n",
      "  File \"C:\\Users\\usuario\\Anaconda3\\envs\\Python2\\lib\\site-packages\\matplotlib\\offsetbox.py\", line 269, in get_window_extent\n",
      "    w, h, xd, yd, offsets = self.get_extent_offsets(renderer)\n",
      "  File \"C:\\Users\\usuario\\Anaconda3\\envs\\Python2\\lib\\site-packages\\matplotlib\\offsetbox.py\", line 391, in get_extent_offsets\n",
      "    for c in self.get_visible_children()]\n",
      "  File \"C:\\Users\\usuario\\Anaconda3\\envs\\Python2\\lib\\site-packages\\matplotlib\\offsetbox.py\", line 262, in get_extent\n",
      "    w, h, xd, yd, offsets = self.get_extent_offsets(renderer)\n",
      "  File \"C:\\Users\\usuario\\Anaconda3\\envs\\Python2\\lib\\site-packages\\matplotlib\\offsetbox.py\", line 462, in get_extent_offsets\n",
      "    for c in self.get_visible_children()]\n",
      "  File \"C:\\Users\\usuario\\Anaconda3\\envs\\Python2\\lib\\site-packages\\matplotlib\\offsetbox.py\", line 262, in get_extent\n",
      "    w, h, xd, yd, offsets = self.get_extent_offsets(renderer)\n",
      "  File \"C:\\Users\\usuario\\Anaconda3\\envs\\Python2\\lib\\site-packages\\matplotlib\\offsetbox.py\", line 391, in get_extent_offsets\n",
      "    for c in self.get_visible_children()]\n",
      "  File \"C:\\Users\\usuario\\Anaconda3\\envs\\Python2\\lib\\site-packages\\matplotlib\\offsetbox.py\", line 262, in get_extent\n",
      "    w, h, xd, yd, offsets = self.get_extent_offsets(renderer)\n",
      "  File \"C:\\Users\\usuario\\Anaconda3\\envs\\Python2\\lib\\site-packages\\matplotlib\\offsetbox.py\", line 462, in get_extent_offsets\n",
      "    for c in self.get_visible_children()]\n",
      "  File \"C:\\Users\\usuario\\Anaconda3\\envs\\Python2\\lib\\site-packages\\matplotlib\\offsetbox.py\", line 835, in get_extent\n",
      "    bbox, info, d = self._text._get_layout(renderer)\n",
      "  File \"C:\\Users\\usuario\\Anaconda3\\envs\\Python2\\lib\\site-packages\\matplotlib\\text.py\", line 362, in _get_layout\n",
      "    ismath=ismath)\n",
      "  File \"C:\\Users\\usuario\\Anaconda3\\envs\\Python2\\lib\\site-packages\\matplotlib\\backends\\backend_agg.py\", line 235, in get_text_width_height_descent\n",
      "    self.mathtext_parser.parse(s, self.dpi, prop)\n",
      "  File \"C:\\Users\\usuario\\Anaconda3\\envs\\Python2\\lib\\site-packages\\matplotlib\\mathtext.py\", line 3286, in parse\n",
      "    box = self._parser.parse(s, font_output, fontsize, dpi)\n",
      "  File \"C:\\Users\\usuario\\Anaconda3\\envs\\Python2\\lib\\site-packages\\matplotlib\\mathtext.py\", line 2523, in parse\n",
      "    six.text_type(err)]))\n",
      "ValueError: \n",
      "Standardized [$$N  (\\mu=0, \\; \\sigma=1)$$]\n",
      "              ^\n",
      "Expected end of text (at char 14), (line:1, col:15)\n"
     ]
    }
   ],
   "source": [
    "from matplotlib import pyplot as plt\n",
    "\n",
    "def plot():\n",
    "    plt.figure(figsize=(8,6))\n",
    "\n",
    "    plt.scatter(df['Alcohol'], df['Malic acid'],\n",
    "            color='green', label='input scale', alpha=0.5)\n",
    "\n",
    "    plt.scatter(df_std[:,0], df_std[:,1], color='red',\n",
    "            label='Standardized [$$N  (\\mu=0, \\; \\sigma=1)$$]', alpha=0.3)\n",
    "\n",
    "    plt.scatter(df_minmax[:,0], df_minmax[:,1],\n",
    "            color='blue', label='min-max scaled [min=0, max=1]', alpha=0.3)\n",
    "\n",
    "    plt.title('Alcohol and Malic Acid content of the wine dataset')\n",
    "    plt.xlabel('Alcohol')\n",
    "    plt.ylabel('Malic Acid')\n",
    "    plt.legend(loc='upper left')\n",
    "    plt.grid()\n",
    "\n",
    "    plt.tight_layout()\n",
    "\n",
    "plot()\n",
    "plt.show()"
   ]
  }
 ],
 "metadata": {
  "kernelspec": {
   "display_name": "Python 2",
   "language": "python",
   "name": "python2"
  },
  "language_info": {
   "codemirror_mode": {
    "name": "ipython",
    "version": 2
   },
   "file_extension": ".py",
   "mimetype": "text/x-python",
   "name": "python",
   "nbconvert_exporter": "python",
   "pygments_lexer": "ipython2",
   "version": "2.7.13"
  }
 },
 "nbformat": 4,
 "nbformat_minor": 2
}
