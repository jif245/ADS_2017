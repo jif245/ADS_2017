{
 "cells": [
  {
   "cell_type": "markdown",
   "metadata": {},
   "source": [
    "# ADS 2017. Homework 1"
   ]
  },
  {
   "cell_type": "markdown",
   "metadata": {},
   "source": [
    "This notebook was uploaded by Julián Ferreiro (NetID: jif245). The notebook was done in collaboration with Juan Sokoloff (NetID jss895). We contributed equally to the solution of the homework.\n",
    "\n",
    "NOTE:\n",
    "For proper functioning of the notebook, it is assumed that the extra files are in the same directory as the notebook."
   ]
  },
  {
   "cell_type": "markdown",
   "metadata": {},
   "source": [
    "### Question (1): (10pt)\n",
    "\n",
    "Suppose that the independent variable $x$ has n observations: $(x_1,x_2,...x_n)$ and the dependent variable $y$ has corresponding observations: $(y_1, y_2,...,y_n)$. If the correlation between these two sequences $corr(x,y)=0.02$, which of the following statements are true? Please select all the right answers.\n",
    "\n",
    "(a) There should be no strong relation between $x$ and $y$.\n",
    "\n",
    "(b) If we build a linear regression between $y$ and $x$ as $y=wx$, we could conclude that the OLS estimation for $w$ should be around 0.02.\n",
    "\n",
    "(c) There could be some strong linear relationship between $x$ and $y$.\n",
    "\n",
    "(d) Certain relation between $x$ and $y$ could still exist, but it should be non-linear."
   ]
  },
  {
   "cell_type": "markdown",
   "metadata": {},
   "source": [
    "##### Answers:\n",
    "(a) is True.\n"
   ]
  },
  {
   "cell_type": "markdown",
   "metadata": {},
   "source": [
    "### Question (2): (10pt)\n",
    "\n"
   ]
  },
  {
   "cell_type": "markdown",
   "metadata": {},
   "source": [
    "Consider a model\n",
    "\n",
    "$y=x^{b}$ where $b>0$. \n",
    "\n",
    "Now, suppose x triples (originally $x>0$). How would y change with respect to this change of x? Let us denote new $y$ as $y'$. Please select all the right answers from below. \n",
    "\n",
    "(a) $y'<3y$ if b is less than one.\n",
    "\n",
    "(b) $y'=3y$ in any case.\n",
    "\n",
    "(c) $y'$ increases by $(2^b-1)*100\\%$.\n",
    "\n",
    "(d) $y'>3y$ if b is bigger than one."
   ]
  },
  {
   "cell_type": "markdown",
   "metadata": {},
   "source": [
    "##### Answers:\n",
    "(a) is True\n",
    "\n"
   ]
  },
  {
   "cell_type": "code",
   "execution_count": 1,
   "metadata": {},
   "outputs": [
    {
     "name": "stdout",
     "output_type": "stream",
     "text": [
      "('this is y', 96)\n",
      "('this is 3y', 7776)\n",
      "3100 %\n",
      "242\n"
     ]
    }
   ],
   "source": [
    "#Testing the model\n",
    "b=5\n",
    "x=2\n",
    "\n",
    "y=x**b\n",
    "y1=(3*x)**b\n",
    "\n",
    "print(\"this is y\",3*y)\n",
    "print (\"this is 3y\",y1)\n",
    "print ((2**b)-1)*100,\"%\"\n",
    "print (y1-y)/y"
   ]
  },
  {
   "cell_type": "code",
   "execution_count": 2,
   "metadata": {
    "collapsed": true
   },
   "outputs": [],
   "source": [
    "#Importing all the package needed for the answers.\n",
    "import pandas as pd\n",
    "import numpy as np\n",
    "import statsmodels.formula.api as smf\n",
    "import matplotlib.pylab as plt\n",
    "%matplotlib inline"
   ]
  },
  {
   "cell_type": "markdown",
   "metadata": {},
   "source": [
    "### Question (3): (30 pt)\n"
   ]
  },
  {
   "cell_type": "code",
   "execution_count": 3,
   "metadata": {
    "collapsed": true
   },
   "outputs": [],
   "source": [
    "x=[0, 1, 2, 3, 4, 5, 6, 7, 8, 9, 10, 11, 12, 13, 14, 15, 16, 17, 18, 19]"
   ]
  },
  {
   "cell_type": "code",
   "execution_count": 4,
   "metadata": {
    "collapsed": true
   },
   "outputs": [],
   "source": [
    "y=[14.0, 12.0, 18.0, -4.0, 14.0, 35.0, 45.0, 30.0, 50.0, 54.0, 58.0, \n",
    "   55.0, 57.0, 62.0, 61.0, 83.0, 85.0, 106.0, 105.0, 104.0]"
   ]
  },
  {
   "cell_type": "markdown",
   "metadata": {},
   "source": [
    "#### (a) Calculate corr(x,y) without using a build-in function for the correlation coefficient."
   ]
  },
  {
   "cell_type": "markdown",
   "metadata": {},
   "source": [
    "To calculate covariance:\n",
    "\n",
    "$ S_{xy} = \\sum_{i=1}^{n} (x_i - \\bar{x})(y_i - \\bar{y}) $"
   ]
  },
  {
   "cell_type": "code",
   "execution_count": 5,
   "metadata": {
    "collapsed": true
   },
   "outputs": [],
   "source": [
    "#Creating arrays from listss\n",
    "x=np.asarray(x)\n",
    "y=np.asarray(y)\n",
    "\n",
    "#creating an array with both lists\n",
    "#source: class 2 notebook\n",
    "data=pd.DataFrame([x,y]).T\n",
    "\n",
    "data.columns=[\"x\",\"y\"]\n",
    "\n",
    "#Calculate mean of each group of numbers\n",
    "x_mean=x.mean()\n",
    "y_mean=y.mean()\n",
    "\n",
    "#calculating covariance\n",
    "cov=np.sum((x-x_mean)*(y-y_mean))/(len(x))"
   ]
  },
  {
   "cell_type": "markdown",
   "metadata": {},
   "source": [
    "#### To calculate the correlation:"
   ]
  },
  {
   "cell_type": "markdown",
   "metadata": {},
   "source": [
    "$ \\rho = \\frac{\\text{cov}(X,Y)}{\\sigma_x \\sigma_y} $"
   ]
  },
  {
   "cell_type": "code",
   "execution_count": 6,
   "metadata": {},
   "outputs": [
    {
     "name": "stdout",
     "output_type": "stream",
     "text": [
      "(a) The correlation coefficient is 0.956301005112\n"
     ]
    }
   ],
   "source": [
    "#Calculating standard deviation\n",
    "x_std=np.asarray(x).std()\n",
    "y_std=np.asarray(y).std()\n",
    "\n",
    "corr=cov/(x_std*y_std)\n",
    "\n",
    "print \"(a) The correlation coefficient is\",corr"
   ]
  },
  {
   "cell_type": "markdown",
   "metadata": {},
   "source": [
    "#### (b) Estimate linear model $y=w_1*x+w_0$ using OLS formulas and without using build-in functions for the linear regression. What is  $w_1$ and $w_0$? What is $R^2$?"
   ]
  },
  {
   "cell_type": "markdown",
   "metadata": {},
   "source": [
    "$$\n",
    "\\left\\{\\begin{array}{c}\\hat{w}_1=\\frac{\\sum\\limits_i x_i y_i-\\left(\\sum\\limits_i y_i\\right)\\left(\\sum\\limits_i x_i\\right)/N}{\\sum\\limits_i (x_i)^2-\\left(\\sum\\limits_i x_i\\right)^2/N}=\\frac{E[XY]-E[X]E[Y]}{E[X^2]-E[X]^2}=\\frac{E[X-E[X]][Y-E[X]]}{var[X]}=\\frac{cov(X,Y)}{var[X]}=corr[X,Y]\\frac{std[Y]}{std[X]},\\\\\n",
    "\\hat{w}_0=\\frac{\\sum\\limits_i y_i-\\hat{w}_1\\left(\\sum\\limits_i x_i\\right)}{N}=E[Y]-E[X]\\hat{w}_1\\end{array}\\right.\n",
    "$$"
   ]
  },
  {
   "cell_type": "markdown",
   "metadata": {},
   "source": [
    "##### Answers:\n",
    " \n",
    " $w_1$ is the slope.\n",
    " \n",
    " $w_0$ is the intercept in the y-axis.\n",
    " \n",
    " $R^2$ is the percentage of how much of the total variation the linear model can explain. "
   ]
  },
  {
   "cell_type": "code",
   "execution_count": 7,
   "metadata": {
    "collapsed": true
   },
   "outputs": [],
   "source": [
    "#According to the formulae, the parameters of the linear model can be obtained the following way:\n",
    "\n",
    "w1=(corr*y_std)/(x_std) #slope\n",
    "wo=y_mean-(x_mean*w1) #intercept\n"
   ]
  },
  {
   "cell_type": "code",
   "execution_count": 8,
   "metadata": {},
   "outputs": [
    {
     "data": {
      "text/html": [
       "<div>\n",
       "<style>\n",
       "    .dataframe thead tr:only-child th {\n",
       "        text-align: right;\n",
       "    }\n",
       "\n",
       "    .dataframe thead th {\n",
       "        text-align: left;\n",
       "    }\n",
       "\n",
       "    .dataframe tbody tr th {\n",
       "        vertical-align: top;\n",
       "    }\n",
       "</style>\n",
       "<table border=\"1\" class=\"dataframe\">\n",
       "  <thead>\n",
       "    <tr style=\"text-align: right;\">\n",
       "      <th></th>\n",
       "      <th>x</th>\n",
       "      <th>y</th>\n",
       "      <th>pred</th>\n",
       "      <th>err</th>\n",
       "    </tr>\n",
       "  </thead>\n",
       "  <tbody>\n",
       "    <tr>\n",
       "      <th>0</th>\n",
       "      <td>0.0</td>\n",
       "      <td>14.0</td>\n",
       "      <td>1.957143</td>\n",
       "      <td>12.042857</td>\n",
       "    </tr>\n",
       "    <tr>\n",
       "      <th>1</th>\n",
       "      <td>1.0</td>\n",
       "      <td>12.0</td>\n",
       "      <td>7.245865</td>\n",
       "      <td>4.754135</td>\n",
       "    </tr>\n",
       "    <tr>\n",
       "      <th>2</th>\n",
       "      <td>2.0</td>\n",
       "      <td>18.0</td>\n",
       "      <td>12.534586</td>\n",
       "      <td>5.465414</td>\n",
       "    </tr>\n",
       "    <tr>\n",
       "      <th>3</th>\n",
       "      <td>3.0</td>\n",
       "      <td>-4.0</td>\n",
       "      <td>17.823308</td>\n",
       "      <td>-21.823308</td>\n",
       "    </tr>\n",
       "    <tr>\n",
       "      <th>4</th>\n",
       "      <td>4.0</td>\n",
       "      <td>14.0</td>\n",
       "      <td>23.112030</td>\n",
       "      <td>-9.112030</td>\n",
       "    </tr>\n",
       "  </tbody>\n",
       "</table>\n",
       "</div>"
      ],
      "text/plain": [
       "     x     y       pred        err\n",
       "0  0.0  14.0   1.957143  12.042857\n",
       "1  1.0  12.0   7.245865   4.754135\n",
       "2  2.0  18.0  12.534586   5.465414\n",
       "3  3.0  -4.0  17.823308 -21.823308\n",
       "4  4.0  14.0  23.112030  -9.112030"
      ]
     },
     "execution_count": 8,
     "metadata": {},
     "output_type": "execute_result"
    }
   ],
   "source": [
    "#We create new columns with the predicted value according to the model and one column with the errors:\n",
    "data.loc[:,\"pred\"]=w1*data.x+wo\n",
    "data.loc[:,\"err\"]=data.y-data.pred\n",
    "\n",
    "data.head()"
   ]
  },
  {
   "cell_type": "code",
   "execution_count": 9,
   "metadata": {},
   "outputs": [],
   "source": [
    "#With the new columns, we can calculate the R**2 value:\n",
    "\n",
    "R_2=1-(data.err**2).sum()/((data.y-y_mean)**2).sum()"
   ]
  },
  {
   "cell_type": "code",
   "execution_count": 10,
   "metadata": {},
   "outputs": [
    {
     "name": "stdout",
     "output_type": "stream",
     "text": [
      "The values of the parameters of the linear model are:\n",
      "\n",
      "w1= 5.28872180451 \n",
      "wo= 1.95714285714 \n",
      "R**2= 0.914511612377\n"
     ]
    }
   ],
   "source": [
    "print \"The values of the parameters of the linear model are:\\n\"\n",
    "print \"w1=\",w1,\"\\n\",\"wo=\",wo,\"\\n\",\"R**2=\",R_2"
   ]
  },
  {
   "cell_type": "markdown",
   "metadata": {},
   "source": [
    "#### (c) Use regression function to double check your answer making sure that your calculation is correct. "
   ]
  },
  {
   "cell_type": "code",
   "execution_count": 11,
   "metadata": {},
   "outputs": [
    {
     "data": {
      "text/html": [
       "<table class=\"simpletable\">\n",
       "<caption>OLS Regression Results</caption>\n",
       "<tr>\n",
       "  <th>Dep. Variable:</th>            <td>y</td>        <th>  R-squared:         </th> <td>   0.915</td>\n",
       "</tr>\n",
       "<tr>\n",
       "  <th>Model:</th>                   <td>OLS</td>       <th>  Adj. R-squared:    </th> <td>   0.910</td>\n",
       "</tr>\n",
       "<tr>\n",
       "  <th>Method:</th>             <td>Least Squares</td>  <th>  F-statistic:       </th> <td>   192.6</td>\n",
       "</tr>\n",
       "<tr>\n",
       "  <th>Date:</th>             <td>Sun, 08 Oct 2017</td> <th>  Prob (F-statistic):</th> <td>4.71e-11</td>\n",
       "</tr>\n",
       "<tr>\n",
       "  <th>Time:</th>                 <td>11:30:47</td>     <th>  Log-Likelihood:    </th> <td> -73.031</td>\n",
       "</tr>\n",
       "<tr>\n",
       "  <th>No. Observations:</th>      <td>    20</td>      <th>  AIC:               </th> <td>   150.1</td>\n",
       "</tr>\n",
       "<tr>\n",
       "  <th>Df Residuals:</th>          <td>    18</td>      <th>  BIC:               </th> <td>   152.1</td>\n",
       "</tr>\n",
       "<tr>\n",
       "  <th>Df Model:</th>              <td>     1</td>      <th>                     </th>     <td> </td>   \n",
       "</tr>\n",
       "<tr>\n",
       "  <th>Covariance Type:</th>      <td>nonrobust</td>    <th>                     </th>     <td> </td>   \n",
       "</tr>\n",
       "</table>\n",
       "<table class=\"simpletable\">\n",
       "<tr>\n",
       "      <td></td>         <th>coef</th>     <th>std err</th>      <th>t</th>      <th>P>|t|</th>  <th>[0.025</th>    <th>0.975]</th>  \n",
       "</tr>\n",
       "<tr>\n",
       "  <th>Intercept</th> <td>    1.9571</td> <td>    4.236</td> <td>    0.462</td> <td> 0.650</td> <td>   -6.941</td> <td>   10.856</td>\n",
       "</tr>\n",
       "<tr>\n",
       "  <th>x</th>         <td>    5.2887</td> <td>    0.381</td> <td>   13.876</td> <td> 0.000</td> <td>    4.488</td> <td>    6.089</td>\n",
       "</tr>\n",
       "</table>\n",
       "<table class=\"simpletable\">\n",
       "<tr>\n",
       "  <th>Omnibus:</th>       <td> 1.554</td> <th>  Durbin-Watson:     </th> <td>   1.493</td>\n",
       "</tr>\n",
       "<tr>\n",
       "  <th>Prob(Omnibus):</th> <td> 0.460</td> <th>  Jarque-Bera (JB):  </th> <td>   1.245</td>\n",
       "</tr>\n",
       "<tr>\n",
       "  <th>Skew:</th>          <td>-0.572</td> <th>  Prob(JB):          </th> <td>   0.537</td>\n",
       "</tr>\n",
       "<tr>\n",
       "  <th>Kurtosis:</th>      <td> 2.569</td> <th>  Cond. No.          </th> <td>    21.5</td>\n",
       "</tr>\n",
       "</table>"
      ],
      "text/plain": [
       "<class 'statsmodels.iolib.summary.Summary'>\n",
       "\"\"\"\n",
       "                            OLS Regression Results                            \n",
       "==============================================================================\n",
       "Dep. Variable:                      y   R-squared:                       0.915\n",
       "Model:                            OLS   Adj. R-squared:                  0.910\n",
       "Method:                 Least Squares   F-statistic:                     192.6\n",
       "Date:                Sun, 08 Oct 2017   Prob (F-statistic):           4.71e-11\n",
       "Time:                        11:30:47   Log-Likelihood:                -73.031\n",
       "No. Observations:                  20   AIC:                             150.1\n",
       "Df Residuals:                      18   BIC:                             152.1\n",
       "Df Model:                           1                                         \n",
       "Covariance Type:            nonrobust                                         \n",
       "==============================================================================\n",
       "                 coef    std err          t      P>|t|      [0.025      0.975]\n",
       "------------------------------------------------------------------------------\n",
       "Intercept      1.9571      4.236      0.462      0.650      -6.941      10.856\n",
       "x              5.2887      0.381     13.876      0.000       4.488       6.089\n",
       "==============================================================================\n",
       "Omnibus:                        1.554   Durbin-Watson:                   1.493\n",
       "Prob(Omnibus):                  0.460   Jarque-Bera (JB):                1.245\n",
       "Skew:                          -0.572   Prob(JB):                        0.537\n",
       "Kurtosis:                       2.569   Cond. No.                         21.5\n",
       "==============================================================================\n",
       "\n",
       "Warnings:\n",
       "[1] Standard Errors assume that the covariance matrix of the errors is correctly specified.\n",
       "\"\"\""
      ]
     },
     "execution_count": 11,
     "metadata": {},
     "output_type": "execute_result"
    }
   ],
   "source": [
    "#creating a linear model\n",
    "lm = smf.ols(formula='y ~ x', data = data).fit()\n",
    "lm.summary()"
   ]
  },
  {
   "cell_type": "markdown",
   "metadata": {},
   "source": [
    "### Question (4): (30pt) "
   ]
  },
  {
   "cell_type": "markdown",
   "metadata": {},
   "source": [
    "For the data below estimate a model: AssessTot = w* LotArea (with and without intercept)\n",
    "\n",
    "LotArea: Total area of the tax lot\n",
    "\n",
    "AssessTot: The actual assessed total value of Final Year 2015"
   ]
  },
  {
   "cell_type": "code",
   "execution_count": 12,
   "metadata": {
    "collapsed": true
   },
   "outputs": [],
   "source": [
    "data_4=pd.read_csv(\"Housing_Pluto_Session2.csv\")"
   ]
  },
  {
   "cell_type": "code",
   "execution_count": 13,
   "metadata": {},
   "outputs": [
    {
     "data": {
      "text/html": [
       "<div>\n",
       "<style>\n",
       "    .dataframe thead tr:only-child th {\n",
       "        text-align: right;\n",
       "    }\n",
       "\n",
       "    .dataframe thead th {\n",
       "        text-align: left;\n",
       "    }\n",
       "\n",
       "    .dataframe tbody tr th {\n",
       "        vertical-align: top;\n",
       "    }\n",
       "</style>\n",
       "<table border=\"1\" class=\"dataframe\">\n",
       "  <thead>\n",
       "    <tr style=\"text-align: right;\">\n",
       "      <th></th>\n",
       "      <th>ZipCode</th>\n",
       "      <th>LotArea</th>\n",
       "      <th>AssessTot</th>\n",
       "    </tr>\n",
       "  </thead>\n",
       "  <tbody>\n",
       "    <tr>\n",
       "      <th>0</th>\n",
       "      <td>11201.0</td>\n",
       "      <td>126975</td>\n",
       "      <td>3922200</td>\n",
       "    </tr>\n",
       "    <tr>\n",
       "      <th>1</th>\n",
       "      <td>11201.0</td>\n",
       "      <td>52600</td>\n",
       "      <td>1359900</td>\n",
       "    </tr>\n",
       "    <tr>\n",
       "      <th>2</th>\n",
       "      <td>11201.0</td>\n",
       "      <td>17700</td>\n",
       "      <td>656100</td>\n",
       "    </tr>\n",
       "    <tr>\n",
       "      <th>3</th>\n",
       "      <td>NaN</td>\n",
       "      <td>31200</td>\n",
       "      <td>18326711</td>\n",
       "    </tr>\n",
       "    <tr>\n",
       "      <th>4</th>\n",
       "      <td>11201.0</td>\n",
       "      <td>16307</td>\n",
       "      <td>0</td>\n",
       "    </tr>\n",
       "  </tbody>\n",
       "</table>\n",
       "</div>"
      ],
      "text/plain": [
       "   ZipCode  LotArea  AssessTot\n",
       "0  11201.0   126975    3922200\n",
       "1  11201.0    52600    1359900\n",
       "2  11201.0    17700     656100\n",
       "3      NaN    31200   18326711\n",
       "4  11201.0    16307          0"
      ]
     },
     "execution_count": 13,
     "metadata": {},
     "output_type": "execute_result"
    }
   ],
   "source": [
    "data_4.head()"
   ]
  },
  {
   "cell_type": "markdown",
   "metadata": {},
   "source": [
    "#### (a). As we see, this data set is not clean.  Drop all the rows which contain \"NaN\" and 0 terms."
   ]
  },
  {
   "cell_type": "code",
   "execution_count": 14,
   "metadata": {},
   "outputs": [],
   "source": [
    "#To erase NaN values, first we drop values equal to 0, they are changed to NaN and then we drop the NaN\n",
    "data_4=data_4[data_4!=0].dropna()\n",
    "\n",
    "#We replaced the original dataframe with a new one without NaNs or zeroes."
   ]
  },
  {
   "cell_type": "markdown",
   "metadata": {},
   "source": [
    "#### (b). Visualize the data set."
   ]
  },
  {
   "cell_type": "code",
   "execution_count": 15,
   "metadata": {},
   "outputs": [
    {
     "data": {
      "text/html": [
       "<div>\n",
       "<style>\n",
       "    .dataframe thead tr:only-child th {\n",
       "        text-align: right;\n",
       "    }\n",
       "\n",
       "    .dataframe thead th {\n",
       "        text-align: left;\n",
       "    }\n",
       "\n",
       "    .dataframe tbody tr th {\n",
       "        vertical-align: top;\n",
       "    }\n",
       "</style>\n",
       "<table border=\"1\" class=\"dataframe\">\n",
       "  <thead>\n",
       "    <tr style=\"text-align: right;\">\n",
       "      <th></th>\n",
       "      <th>ZipCode</th>\n",
       "      <th>LotArea</th>\n",
       "      <th>AssessTot</th>\n",
       "    </tr>\n",
       "  </thead>\n",
       "  <tbody>\n",
       "    <tr>\n",
       "      <th>0</th>\n",
       "      <td>11201.0</td>\n",
       "      <td>126975.0</td>\n",
       "      <td>3922200.0</td>\n",
       "    </tr>\n",
       "    <tr>\n",
       "      <th>1</th>\n",
       "      <td>11201.0</td>\n",
       "      <td>52600.0</td>\n",
       "      <td>1359900.0</td>\n",
       "    </tr>\n",
       "    <tr>\n",
       "      <th>2</th>\n",
       "      <td>11201.0</td>\n",
       "      <td>17700.0</td>\n",
       "      <td>656100.0</td>\n",
       "    </tr>\n",
       "    <tr>\n",
       "      <th>5</th>\n",
       "      <td>11201.0</td>\n",
       "      <td>8120.0</td>\n",
       "      <td>5976000.0</td>\n",
       "    </tr>\n",
       "    <tr>\n",
       "      <th>6</th>\n",
       "      <td>11201.0</td>\n",
       "      <td>1297.0</td>\n",
       "      <td>56954.0</td>\n",
       "    </tr>\n",
       "  </tbody>\n",
       "</table>\n",
       "</div>"
      ],
      "text/plain": [
       "   ZipCode   LotArea  AssessTot\n",
       "0  11201.0  126975.0  3922200.0\n",
       "1  11201.0   52600.0  1359900.0\n",
       "2  11201.0   17700.0   656100.0\n",
       "5  11201.0    8120.0  5976000.0\n",
       "6  11201.0    1297.0    56954.0"
      ]
     },
     "execution_count": 15,
     "metadata": {},
     "output_type": "execute_result"
    }
   ],
   "source": [
    "data_4.head()"
   ]
  },
  {
   "cell_type": "markdown",
   "metadata": {},
   "source": [
    "#### (c).  Build a model : AssessTot=$w_1$*LotArea + $w_2$. \n",
    "\n",
    "Get $w_1$, $w_2$ and $R^2$.  Plot your results together with observations. "
   ]
  },
  {
   "cell_type": "code",
   "execution_count": 16,
   "metadata": {},
   "outputs": [
    {
     "data": {
      "text/html": [
       "<table class=\"simpletable\">\n",
       "<caption>OLS Regression Results</caption>\n",
       "<tr>\n",
       "  <th>Dep. Variable:</th>        <td>AssessTot</td>    <th>  R-squared:         </th>  <td>   0.384</td>  \n",
       "</tr>\n",
       "<tr>\n",
       "  <th>Model:</th>                   <td>OLS</td>       <th>  Adj. R-squared:    </th>  <td>   0.384</td>  \n",
       "</tr>\n",
       "<tr>\n",
       "  <th>Method:</th>             <td>Least Squares</td>  <th>  F-statistic:       </th>  <td>1.724e+05</td> \n",
       "</tr>\n",
       "<tr>\n",
       "  <th>Date:</th>             <td>Sun, 08 Oct 2017</td> <th>  Prob (F-statistic):</th>   <td>  0.00</td>   \n",
       "</tr>\n",
       "<tr>\n",
       "  <th>Time:</th>                 <td>11:30:48</td>     <th>  Log-Likelihood:    </th> <td>-4.6214e+06</td>\n",
       "</tr>\n",
       "<tr>\n",
       "  <th>No. Observations:</th>      <td>275942</td>      <th>  AIC:               </th>  <td>9.243e+06</td> \n",
       "</tr>\n",
       "<tr>\n",
       "  <th>Df Residuals:</th>          <td>275940</td>      <th>  BIC:               </th>  <td>9.243e+06</td> \n",
       "</tr>\n",
       "<tr>\n",
       "  <th>Df Model:</th>              <td>     1</td>      <th>                     </th>      <td> </td>     \n",
       "</tr>\n",
       "<tr>\n",
       "  <th>Covariance Type:</th>      <td>nonrobust</td>    <th>                     </th>      <td> </td>     \n",
       "</tr>\n",
       "</table>\n",
       "<table class=\"simpletable\">\n",
       "<tr>\n",
       "      <td></td>         <th>coef</th>     <th>std err</th>      <th>t</th>      <th>P>|t|</th>  <th>[0.025</th>    <th>0.975]</th>  \n",
       "</tr>\n",
       "<tr>\n",
       "  <th>Intercept</th> <td> 7.687e+04</td> <td> 8649.652</td> <td>    8.887</td> <td> 0.000</td> <td> 5.99e+04</td> <td> 9.38e+04</td>\n",
       "</tr>\n",
       "<tr>\n",
       "  <th>LotArea</th>   <td>   21.1603</td> <td>    0.051</td> <td>  415.161</td> <td> 0.000</td> <td>   21.060</td> <td>   21.260</td>\n",
       "</tr>\n",
       "</table>\n",
       "<table class=\"simpletable\">\n",
       "<tr>\n",
       "  <th>Omnibus:</th>       <td>1261795.752</td> <th>  Durbin-Watson:     </th>      <td>   2.280</td>     \n",
       "</tr>\n",
       "<tr>\n",
       "  <th>Prob(Omnibus):</th>   <td> 0.000</td>    <th>  Jarque-Bera (JB):  </th> <td>60345262637940.859</td>\n",
       "</tr>\n",
       "<tr>\n",
       "  <th>Skew:</th>            <td>157.435</td>   <th>  Prob(JB):          </th>      <td>    0.00</td>     \n",
       "</tr>\n",
       "<tr>\n",
       "  <th>Kurtosis:</th>       <td>72448.966</td>  <th>  Cond. No.          </th>      <td>1.70e+05</td>     \n",
       "</tr>\n",
       "</table>"
      ],
      "text/plain": [
       "<class 'statsmodels.iolib.summary.Summary'>\n",
       "\"\"\"\n",
       "                            OLS Regression Results                            \n",
       "==============================================================================\n",
       "Dep. Variable:              AssessTot   R-squared:                       0.384\n",
       "Model:                            OLS   Adj. R-squared:                  0.384\n",
       "Method:                 Least Squares   F-statistic:                 1.724e+05\n",
       "Date:                Sun, 08 Oct 2017   Prob (F-statistic):               0.00\n",
       "Time:                        11:30:48   Log-Likelihood:            -4.6214e+06\n",
       "No. Observations:              275942   AIC:                         9.243e+06\n",
       "Df Residuals:                  275940   BIC:                         9.243e+06\n",
       "Df Model:                           1                                         \n",
       "Covariance Type:            nonrobust                                         \n",
       "==============================================================================\n",
       "                 coef    std err          t      P>|t|      [0.025      0.975]\n",
       "------------------------------------------------------------------------------\n",
       "Intercept   7.687e+04   8649.652      8.887      0.000    5.99e+04    9.38e+04\n",
       "LotArea       21.1603      0.051    415.161      0.000      21.060      21.260\n",
       "==============================================================================\n",
       "Omnibus:                  1261795.752   Durbin-Watson:                   2.280\n",
       "Prob(Omnibus):                  0.000   Jarque-Bera (JB):   60345262637940.859\n",
       "Skew:                         157.435   Prob(JB):                         0.00\n",
       "Kurtosis:                   72448.966   Cond. No.                     1.70e+05\n",
       "==============================================================================\n",
       "\n",
       "Warnings:\n",
       "[1] Standard Errors assume that the covariance matrix of the errors is correctly specified.\n",
       "[2] The condition number is large, 1.7e+05. This might indicate that there are\n",
       "strong multicollinearity or other numerical problems.\n",
       "\"\"\""
      ]
     },
     "execution_count": 16,
     "metadata": {},
     "output_type": "execute_result"
    }
   ],
   "source": [
    "#With the statisical package we build a linear model\n",
    "lm = smf.ols(formula=\"AssessTot ~ LotArea\", data = data_4).fit()\n",
    "lm.summary()\n"
   ]
  },
  {
   "cell_type": "code",
   "execution_count": 17,
   "metadata": {},
   "outputs": [
    {
     "data": {
      "text/html": [
       "<div>\n",
       "<style>\n",
       "    .dataframe thead tr:only-child th {\n",
       "        text-align: right;\n",
       "    }\n",
       "\n",
       "    .dataframe thead th {\n",
       "        text-align: left;\n",
       "    }\n",
       "\n",
       "    .dataframe tbody tr th {\n",
       "        vertical-align: top;\n",
       "    }\n",
       "</style>\n",
       "<table border=\"1\" class=\"dataframe\">\n",
       "  <thead>\n",
       "    <tr style=\"text-align: right;\">\n",
       "      <th></th>\n",
       "      <th>ZipCode</th>\n",
       "      <th>LotArea</th>\n",
       "      <th>AssessTot</th>\n",
       "      <th>pred</th>\n",
       "    </tr>\n",
       "  </thead>\n",
       "  <tbody>\n",
       "    <tr>\n",
       "      <th>0</th>\n",
       "      <td>11201.0</td>\n",
       "      <td>126975.0</td>\n",
       "      <td>3922200.0</td>\n",
       "      <td>2.763698e+06</td>\n",
       "    </tr>\n",
       "    <tr>\n",
       "      <th>1</th>\n",
       "      <td>11201.0</td>\n",
       "      <td>52600.0</td>\n",
       "      <td>1359900.0</td>\n",
       "      <td>1.189900e+06</td>\n",
       "    </tr>\n",
       "    <tr>\n",
       "      <th>2</th>\n",
       "      <td>11201.0</td>\n",
       "      <td>17700.0</td>\n",
       "      <td>656100.0</td>\n",
       "      <td>4.514058e+05</td>\n",
       "    </tr>\n",
       "    <tr>\n",
       "      <th>5</th>\n",
       "      <td>11201.0</td>\n",
       "      <td>8120.0</td>\n",
       "      <td>5976000.0</td>\n",
       "      <td>2.486901e+05</td>\n",
       "    </tr>\n",
       "    <tr>\n",
       "      <th>6</th>\n",
       "      <td>11201.0</td>\n",
       "      <td>1297.0</td>\n",
       "      <td>56954.0</td>\n",
       "      <td>1.043133e+05</td>\n",
       "    </tr>\n",
       "  </tbody>\n",
       "</table>\n",
       "</div>"
      ],
      "text/plain": [
       "   ZipCode   LotArea  AssessTot          pred\n",
       "0  11201.0  126975.0  3922200.0  2.763698e+06\n",
       "1  11201.0   52600.0  1359900.0  1.189900e+06\n",
       "2  11201.0   17700.0   656100.0  4.514058e+05\n",
       "5  11201.0    8120.0  5976000.0  2.486901e+05\n",
       "6  11201.0    1297.0    56954.0  1.043133e+05"
      ]
     },
     "execution_count": 17,
     "metadata": {},
     "output_type": "execute_result"
    }
   ],
   "source": [
    "#extracting parameters from the linear model.\n",
    "intercept=lm.params[0]\n",
    "slope=lm.params[1]\n",
    "\n",
    "#Creating columns to obtain predicted values:\n",
    "data_4.loc[:,\"pred\"]=(slope*data_4[\"LotArea\"])+intercept\n",
    "\n",
    "data_4.head()"
   ]
  },
  {
   "cell_type": "code",
   "execution_count": 18,
   "metadata": {},
   "outputs": [
    {
     "data": {
      "image/png": "[encoded data removed]",
      "text/plain": [
       "<matplotlib.figure.Figure at 0xb0a4198>"
      ]
     },
     "metadata": {},
     "output_type": "display_data"
    }
   ],
   "source": [
    "#Visualizing the model \n",
    "\n",
    "plt.figure()\n",
    "plt.scatter(\"LotArea\",\"AssessTot\",data=data_4)\n",
    "plt.plot(data_4[\"LotArea\"],data_4.pred,c=\"r\")\n",
    "plt.xlabel('Total area of the tax lot')\n",
    "plt.ylabel('Assessed total value')\n",
    "plt.title(\"Total Asset vs Lot Area\")\n",
    "plt.show()\n",
    "\n",
    "#[data_4[\"LotArea\"]<20000]"
   ]
  },
  {
   "cell_type": "markdown",
   "metadata": {},
   "source": [
    "#### (d) Repeat (c) without intercept, i.e. with $w_2=0$."
   ]
  },
  {
   "cell_type": "code",
   "execution_count": 19,
   "metadata": {},
   "outputs": [
    {
     "data": {
      "text/html": [
       "<table class=\"simpletable\">\n",
       "<caption>OLS Regression Results</caption>\n",
       "<tr>\n",
       "  <th>Dep. Variable:</th>        <td>AssessTot</td>    <th>  R-squared:         </th>  <td>   0.385</td>  \n",
       "</tr>\n",
       "<tr>\n",
       "  <th>Model:</th>                   <td>OLS</td>       <th>  Adj. R-squared:    </th>  <td>   0.385</td>  \n",
       "</tr>\n",
       "<tr>\n",
       "  <th>Method:</th>             <td>Least Squares</td>  <th>  F-statistic:       </th>  <td>1.727e+05</td> \n",
       "</tr>\n",
       "<tr>\n",
       "  <th>Date:</th>             <td>Sun, 08 Oct 2017</td> <th>  Prob (F-statistic):</th>   <td>  0.00</td>   \n",
       "</tr>\n",
       "<tr>\n",
       "  <th>Time:</th>                 <td>11:30:53</td>     <th>  Log-Likelihood:    </th> <td>-4.6214e+06</td>\n",
       "</tr>\n",
       "<tr>\n",
       "  <th>No. Observations:</th>      <td>275942</td>      <th>  AIC:               </th>  <td>9.243e+06</td> \n",
       "</tr>\n",
       "<tr>\n",
       "  <th>Df Residuals:</th>          <td>275941</td>      <th>  BIC:               </th>  <td>9.243e+06</td> \n",
       "</tr>\n",
       "<tr>\n",
       "  <th>Df Model:</th>              <td>     1</td>      <th>                     </th>      <td> </td>     \n",
       "</tr>\n",
       "<tr>\n",
       "  <th>Covariance Type:</th>      <td>nonrobust</td>    <th>                     </th>      <td> </td>     \n",
       "</tr>\n",
       "</table>\n",
       "<table class=\"simpletable\">\n",
       "<tr>\n",
       "     <td></td>        <th>coef</th>     <th>std err</th>      <th>t</th>      <th>P>|t|</th>  <th>[0.025</th>    <th>0.975]</th>  \n",
       "</tr>\n",
       "<tr>\n",
       "  <th>LotArea</th> <td>   21.1740</td> <td>    0.051</td> <td>  415.561</td> <td> 0.000</td> <td>   21.074</td> <td>   21.274</td>\n",
       "</tr>\n",
       "</table>\n",
       "<table class=\"simpletable\">\n",
       "<tr>\n",
       "  <th>Omnibus:</th>       <td>1261079.995</td> <th>  Durbin-Watson:     </th>      <td>   2.280</td>     \n",
       "</tr>\n",
       "<tr>\n",
       "  <th>Prob(Omnibus):</th>   <td> 0.000</td>    <th>  Jarque-Bera (JB):  </th> <td>60228167169598.078</td>\n",
       "</tr>\n",
       "<tr>\n",
       "  <th>Skew:</th>            <td>157.128</td>   <th>  Prob(JB):          </th>      <td>    0.00</td>     \n",
       "</tr>\n",
       "<tr>\n",
       "  <th>Kurtosis:</th>       <td>72378.645</td>  <th>  Cond. No.          </th>      <td>    1.00</td>     \n",
       "</tr>\n",
       "</table>"
      ],
      "text/plain": [
       "<class 'statsmodels.iolib.summary.Summary'>\n",
       "\"\"\"\n",
       "                            OLS Regression Results                            \n",
       "==============================================================================\n",
       "Dep. Variable:              AssessTot   R-squared:                       0.385\n",
       "Model:                            OLS   Adj. R-squared:                  0.385\n",
       "Method:                 Least Squares   F-statistic:                 1.727e+05\n",
       "Date:                Sun, 08 Oct 2017   Prob (F-statistic):               0.00\n",
       "Time:                        11:30:53   Log-Likelihood:            -4.6214e+06\n",
       "No. Observations:              275942   AIC:                         9.243e+06\n",
       "Df Residuals:                  275941   BIC:                         9.243e+06\n",
       "Df Model:                           1                                         \n",
       "Covariance Type:            nonrobust                                         \n",
       "==============================================================================\n",
       "                 coef    std err          t      P>|t|      [0.025      0.975]\n",
       "------------------------------------------------------------------------------\n",
       "LotArea       21.1740      0.051    415.561      0.000      21.074      21.274\n",
       "==============================================================================\n",
       "Omnibus:                  1261079.995   Durbin-Watson:                   2.280\n",
       "Prob(Omnibus):                  0.000   Jarque-Bera (JB):   60228167169598.078\n",
       "Skew:                         157.128   Prob(JB):                         0.00\n",
       "Kurtosis:                   72378.645   Cond. No.                         1.00\n",
       "==============================================================================\n",
       "\n",
       "Warnings:\n",
       "[1] Standard Errors assume that the covariance matrix of the errors is correctly specified.\n",
       "\"\"\""
      ]
     },
     "execution_count": 19,
     "metadata": {},
     "output_type": "execute_result"
    }
   ],
   "source": [
    "#Adding (-1) to the formulae forces the model to not include an intercept.\n",
    "lm1 = smf.ols(formula=\"AssessTot ~ LotArea -1\", data = data_4).fit()\n",
    "lm1.summary()\n"
   ]
  },
  {
   "cell_type": "code",
   "execution_count": 20,
   "metadata": {},
   "outputs": [
    {
     "data": {
      "image/png": "[encoded data removed]",
      "text/plain": [
       "<matplotlib.figure.Figure at 0xb7111d0>"
      ]
     },
     "metadata": {},
     "output_type": "display_data"
    }
   ],
   "source": [
    "#extracting parameters from the new model\n",
    "intercept1=lm1.params[0]\n",
    "\n",
    "#creating predicted values when there is no intercept\n",
    "data_4.loc[:,\"pred_nointercept\"]=(slope*data_4[\"LotArea\"])+intercept1\n",
    "\n",
    "#Visualizing graph\n",
    "plt.figure()\n",
    "plt.scatter(\"LotArea\",\"AssessTot\",data=data_4)\n",
    "plt.plot(data_4[\"LotArea\"],data_4.pred_nointercept,c=\"r\")\n",
    "plt.xlabel('Total area of the tax lot')\n",
    "plt.ylabel('Assessed total value')\n",
    "plt.title(\"Total Asset vs Lot Area\")\n",
    "plt.show()\n",
    "\n"
   ]
  },
  {
   "cell_type": "markdown",
   "metadata": {
    "collapsed": true
   },
   "source": [
    "### Question (5): (20pt)\n",
    "\n",
    "For the same data as above try the model: log_AssessTot=$w_1$*log_LotArea + $w_2$. \n",
    "\n",
    "Get $w_1$, $w_2$ and $R^2$.  And plot your results together with observations. Explain the result - what does the estimated \"$w_1$\" means to you?"
   ]
  },
  {
   "cell_type": "code",
   "execution_count": 21,
   "metadata": {},
   "outputs": [
    {
     "data": {
      "text/html": [
       "<table class=\"simpletable\">\n",
       "<caption>OLS Regression Results</caption>\n",
       "<tr>\n",
       "  <th>Dep. Variable:</th>    <td>np.log(AssessTot)</td> <th>  R-squared:         </th>  <td>   0.491</td>  \n",
       "</tr>\n",
       "<tr>\n",
       "  <th>Model:</th>                   <td>OLS</td>        <th>  Adj. R-squared:    </th>  <td>   0.491</td>  \n",
       "</tr>\n",
       "<tr>\n",
       "  <th>Method:</th>             <td>Least Squares</td>   <th>  F-statistic:       </th>  <td>2.659e+05</td> \n",
       "</tr>\n",
       "<tr>\n",
       "  <th>Date:</th>             <td>Sun, 08 Oct 2017</td>  <th>  Prob (F-statistic):</th>   <td>  0.00</td>   \n",
       "</tr>\n",
       "<tr>\n",
       "  <th>Time:</th>                 <td>11:31:00</td>      <th>  Log-Likelihood:    </th> <td>-3.4454e+05</td>\n",
       "</tr>\n",
       "<tr>\n",
       "  <th>No. Observations:</th>      <td>275942</td>       <th>  AIC:               </th>  <td>6.891e+05</td> \n",
       "</tr>\n",
       "<tr>\n",
       "  <th>Df Residuals:</th>          <td>275940</td>       <th>  BIC:               </th>  <td>6.891e+05</td> \n",
       "</tr>\n",
       "<tr>\n",
       "  <th>Df Model:</th>              <td>     1</td>       <th>                     </th>      <td> </td>     \n",
       "</tr>\n",
       "<tr>\n",
       "  <th>Covariance Type:</th>      <td>nonrobust</td>     <th>                     </th>      <td> </td>     \n",
       "</tr>\n",
       "</table>\n",
       "<table class=\"simpletable\">\n",
       "<tr>\n",
       "         <td></td>            <th>coef</th>     <th>std err</th>      <th>t</th>      <th>P>|t|</th>  <th>[0.025</th>    <th>0.975]</th>  \n",
       "</tr>\n",
       "<tr>\n",
       "  <th>Intercept</th>       <td>    0.2088</td> <td>    0.020</td> <td>   10.345</td> <td> 0.000</td> <td>    0.169</td> <td>    0.248</td>\n",
       "</tr>\n",
       "<tr>\n",
       "  <th>np.log(LotArea)</th> <td>    1.3250</td> <td>    0.003</td> <td>  515.625</td> <td> 0.000</td> <td>    1.320</td> <td>    1.330</td>\n",
       "</tr>\n",
       "</table>\n",
       "<table class=\"simpletable\">\n",
       "<tr>\n",
       "  <th>Omnibus:</th>       <td>29138.667</td> <th>  Durbin-Watson:     </th>  <td>   0.917</td> \n",
       "</tr>\n",
       "<tr>\n",
       "  <th>Prob(Omnibus):</th>  <td> 0.000</td>   <th>  Jarque-Bera (JB):  </th> <td>197341.462</td>\n",
       "</tr>\n",
       "<tr>\n",
       "  <th>Skew:</th>           <td> 0.276</td>   <th>  Prob(JB):          </th>  <td>    0.00</td> \n",
       "</tr>\n",
       "<tr>\n",
       "  <th>Kurtosis:</th>       <td> 7.106</td>   <th>  Cond. No.          </th>  <td>    100.</td> \n",
       "</tr>\n",
       "</table>"
      ],
      "text/plain": [
       "<class 'statsmodels.iolib.summary.Summary'>\n",
       "\"\"\"\n",
       "                            OLS Regression Results                            \n",
       "==============================================================================\n",
       "Dep. Variable:      np.log(AssessTot)   R-squared:                       0.491\n",
       "Model:                            OLS   Adj. R-squared:                  0.491\n",
       "Method:                 Least Squares   F-statistic:                 2.659e+05\n",
       "Date:                Sun, 08 Oct 2017   Prob (F-statistic):               0.00\n",
       "Time:                        11:31:00   Log-Likelihood:            -3.4454e+05\n",
       "No. Observations:              275942   AIC:                         6.891e+05\n",
       "Df Residuals:                  275940   BIC:                         6.891e+05\n",
       "Df Model:                           1                                         \n",
       "Covariance Type:            nonrobust                                         \n",
       "===================================================================================\n",
       "                      coef    std err          t      P>|t|      [0.025      0.975]\n",
       "-----------------------------------------------------------------------------------\n",
       "Intercept           0.2088      0.020     10.345      0.000       0.169       0.248\n",
       "np.log(LotArea)     1.3250      0.003    515.625      0.000       1.320       1.330\n",
       "==============================================================================\n",
       "Omnibus:                    29138.667   Durbin-Watson:                   0.917\n",
       "Prob(Omnibus):                  0.000   Jarque-Bera (JB):           197341.462\n",
       "Skew:                           0.276   Prob(JB):                         0.00\n",
       "Kurtosis:                       7.106   Cond. No.                         100.\n",
       "==============================================================================\n",
       "\n",
       "Warnings:\n",
       "[1] Standard Errors assume that the covariance matrix of the errors is correctly specified.\n",
       "\"\"\""
      ]
     },
     "execution_count": 21,
     "metadata": {},
     "output_type": "execute_result"
    }
   ],
   "source": [
    "#This new model takes the values of x and y and applies a log function.\n",
    "lm_log = smf.ols(formula=\"np.log(AssessTot) ~ np.log(LotArea)\", data = data_4).fit()\n",
    "lm_log.summary()\n"
   ]
  },
  {
   "cell_type": "code",
   "execution_count": 22,
   "metadata": {},
   "outputs": [
    {
     "data": {
      "image/png": "[encoded data removed]",
      "text/plain": [
       "<matplotlib.figure.Figure at 0xb693278>"
      ]
     },
     "metadata": {},
     "output_type": "display_data"
    }
   ],
   "source": [
    "#extracting parameters from the LOGARITMIC model.\n",
    "intercept_log=lm_log.params[0]\n",
    "slope_log=lm_log.params[1]\n",
    "\n",
    "#creating predicted values\n",
    "data_4.loc[:,\"pred_log\"]=slope_log*np.log(data_4[\"LotArea\"])+intercept_log\n",
    "\n",
    "#Visualizing graph\n",
    "plt.figure()\n",
    "plt.scatter(np.log(data_4[\"LotArea\"]),np.log(data_4[\"AssessTot\"]))\n",
    "plt.plot(np.log(data_4[\"LotArea\"]),data_4.pred_log,c=\"r\")\n",
    "plt.xlabel('Log of Total area of the tax lot')\n",
    "plt.ylabel('Log of Assessed total value')\n",
    "plt.title(\"Log Total Asset vsLog of Lot Area\")\n",
    "plt.show()\n",
    "\n"
   ]
  },
  {
   "cell_type": "code",
   "execution_count": 23,
   "metadata": {},
   "outputs": [
    {
     "name": "stdout",
     "output_type": "stream",
     "text": [
      "The slope(w1) is 1.3250\n",
      "The R**2=0.491\n"
     ]
    }
   ],
   "source": [
    "print \"The slope(w1) is 1.3250\"\n",
    "print \"The R**2=0.491\""
   ]
  },
  {
   "cell_type": "markdown",
   "metadata": {},
   "source": [
    "Explain the result - what does the estimated \" w1 \" means to you?"
   ]
  },
  {
   "cell_type": "markdown",
   "metadata": {},
   "source": [
    "The w1 means that for each 1% of increment in the area of the tax lot, the assessed total value increases 1.32%"
   ]
  }
 ],
 "metadata": {
  "kernelspec": {
   "display_name": "Python 2",
   "language": "python",
   "name": "python2"
  },
  "language_info": {
   "codemirror_mode": {
    "name": "ipython",
    "version": 2
   },
   "file_extension": ".py",
   "mimetype": "text/x-python",
   "name": "python",
   "nbconvert_exporter": "python",
   "pygments_lexer": "ipython2",
   "version": "2.7.13"
  }
 },
 "nbformat": 4,
 "nbformat_minor": 1
}
