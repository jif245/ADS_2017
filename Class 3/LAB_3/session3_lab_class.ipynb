{
 "cells": [
  {
   "cell_type": "code",
   "execution_count": 1,
   "metadata": {
    "collapsed": false
   },
   "outputs": [
    {
     "name": "stdout",
     "output_type": "stream",
     "text": [
      "Populating the interactive namespace from numpy and matplotlib\n"
     ]
    },
    {
     "name": "stderr",
     "output_type": "stream",
     "text": [
      "/Library/Frameworks/Python.framework/Versions/2.7/lib/python2.7/site-packages/matplotlib/__init__.py:878: UserWarning: axes.color_cycle is deprecated and replaced with axes.prop_cycle; please use the latter.\n",
      "  warnings.warn(self.msg_depr % (key, alt_key))\n",
      "WARNING: pylab import has clobbered these variables: ['plt']\n",
      "`%matplotlib` prevents importing * from pylab and numpy\n"
     ]
    }
   ],
   "source": [
    "#loading pandas package to load and clean the data\n",
    "import pandas as pd\n",
    "#importing libraries needed for regression and visualization\n",
    "import numpy as np\n",
    "import seaborn as sns\n",
    "import statsmodels.formula.api as smf\n",
    "import matplotlib.pylab as plt\n",
    "%pylab inline"
   ]
  },
  {
   "cell_type": "markdown",
   "metadata": {},
   "source": [
    "During this lab we will work with American community servey and crime data to establish and visualize relations between wealth, population and crime on different spatial scales, including county, state and city."
   ]
  },
  {
   "cell_type": "markdown",
   "metadata": {},
   "source": [
    "### Loading Demographics data (American Community Servey Data) obtained from the social explorer"
   ]
  },
  {
   "cell_type": "code",
   "execution_count": 2,
   "metadata": {
    "collapsed": false
   },
   "outputs": [
    {
     "data": {
      "text/html": [
       "<div>\n",
       "<table border=\"1\" class=\"dataframe\">\n",
       "  <thead>\n",
       "    <tr style=\"text-align: right;\">\n",
       "      <th></th>\n",
       "      <th>Geo_FIPS</th>\n",
       "      <th>Geo_GEOID</th>\n",
       "      <th>Geo_NAME</th>\n",
       "      <th>Geo_QName</th>\n",
       "      <th>Geo_STUSAB</th>\n",
       "      <th>Geo_SUMLEV</th>\n",
       "      <th>Geo_GEOCOMP</th>\n",
       "      <th>Geo_FILEID</th>\n",
       "      <th>Geo_LOGRECNO</th>\n",
       "      <th>Geo_US</th>\n",
       "      <th>...</th>\n",
       "      <th>Geo_PUMA1</th>\n",
       "      <th>SE_T001_001</th>\n",
       "      <th>SE_T002_001</th>\n",
       "      <th>SE_T002_002</th>\n",
       "      <th>SE_T002_003</th>\n",
       "      <th>SE_T003_001</th>\n",
       "      <th>SE_T003_002</th>\n",
       "      <th>SE_T003_003</th>\n",
       "      <th>SE_T057_001</th>\n",
       "      <th>SE_T083_001</th>\n",
       "    </tr>\n",
       "  </thead>\n",
       "  <tbody>\n",
       "    <tr>\n",
       "      <th>0</th>\n",
       "      <td>1001</td>\n",
       "      <td>05000US01001</td>\n",
       "      <td>Autauga County, Alabama</td>\n",
       "      <td>Autauga County, Alabama</td>\n",
       "      <td>al</td>\n",
       "      <td>50</td>\n",
       "      <td>0</td>\n",
       "      <td>ACSSF</td>\n",
       "      <td>13</td>\n",
       "      <td>NaN</td>\n",
       "      <td>...</td>\n",
       "      <td>NaN</td>\n",
       "      <td>55136</td>\n",
       "      <td>55136</td>\n",
       "      <td>92.75346</td>\n",
       "      <td>594.436089</td>\n",
       "      <td>604.3882</td>\n",
       "      <td>594.4361</td>\n",
       "      <td>9.952067</td>\n",
       "      <td>52475</td>\n",
       "      <td>24644</td>\n",
       "    </tr>\n",
       "    <tr>\n",
       "      <th>1</th>\n",
       "      <td>1003</td>\n",
       "      <td>05000US01003</td>\n",
       "      <td>Baldwin County, Alabama</td>\n",
       "      <td>Baldwin County, Alabama</td>\n",
       "      <td>al</td>\n",
       "      <td>50</td>\n",
       "      <td>0</td>\n",
       "      <td>ACSSF</td>\n",
       "      <td>14</td>\n",
       "      <td>NaN</td>\n",
       "      <td>...</td>\n",
       "      <td>NaN</td>\n",
       "      <td>191205</td>\n",
       "      <td>191205</td>\n",
       "      <td>120.27100</td>\n",
       "      <td>1589.784070</td>\n",
       "      <td>2027.3110</td>\n",
       "      <td>1589.7840</td>\n",
       "      <td>437.527200</td>\n",
       "      <td>50183</td>\n",
       "      <td>26851</td>\n",
       "    </tr>\n",
       "    <tr>\n",
       "      <th>2</th>\n",
       "      <td>1005</td>\n",
       "      <td>05000US01005</td>\n",
       "      <td>Barbour County, Alabama</td>\n",
       "      <td>Barbour County, Alabama</td>\n",
       "      <td>al</td>\n",
       "      <td>50</td>\n",
       "      <td>0</td>\n",
       "      <td>ACSSF</td>\n",
       "      <td>15</td>\n",
       "      <td>NaN</td>\n",
       "      <td>...</td>\n",
       "      <td>NaN</td>\n",
       "      <td>27119</td>\n",
       "      <td>27119</td>\n",
       "      <td>30.64722</td>\n",
       "      <td>884.876304</td>\n",
       "      <td>904.5153</td>\n",
       "      <td>884.8763</td>\n",
       "      <td>19.638980</td>\n",
       "      <td>35634</td>\n",
       "      <td>17350</td>\n",
       "    </tr>\n",
       "    <tr>\n",
       "      <th>3</th>\n",
       "      <td>1007</td>\n",
       "      <td>05000US01007</td>\n",
       "      <td>Bibb County, Alabama</td>\n",
       "      <td>Bibb County, Alabama</td>\n",
       "      <td>al</td>\n",
       "      <td>50</td>\n",
       "      <td>0</td>\n",
       "      <td>ACSSF</td>\n",
       "      <td>16</td>\n",
       "      <td>NaN</td>\n",
       "      <td>...</td>\n",
       "      <td>NaN</td>\n",
       "      <td>22653</td>\n",
       "      <td>22653</td>\n",
       "      <td>36.38555</td>\n",
       "      <td>622.582332</td>\n",
       "      <td>626.1689</td>\n",
       "      <td>622.5823</td>\n",
       "      <td>3.586525</td>\n",
       "      <td>37984</td>\n",
       "      <td>18110</td>\n",
       "    </tr>\n",
       "    <tr>\n",
       "      <th>4</th>\n",
       "      <td>1009</td>\n",
       "      <td>05000US01009</td>\n",
       "      <td>Blount County, Alabama</td>\n",
       "      <td>Blount County, Alabama</td>\n",
       "      <td>al</td>\n",
       "      <td>50</td>\n",
       "      <td>0</td>\n",
       "      <td>ACSSF</td>\n",
       "      <td>17</td>\n",
       "      <td>NaN</td>\n",
       "      <td>...</td>\n",
       "      <td>NaN</td>\n",
       "      <td>57645</td>\n",
       "      <td>57645</td>\n",
       "      <td>89.40315</td>\n",
       "      <td>644.775905</td>\n",
       "      <td>650.6282</td>\n",
       "      <td>644.7759</td>\n",
       "      <td>5.852321</td>\n",
       "      <td>44409</td>\n",
       "      <td>20501</td>\n",
       "    </tr>\n",
       "  </tbody>\n",
       "</table>\n",
       "<p>5 rows × 64 columns</p>\n",
       "</div>"
      ],
      "text/plain": [
       "   Geo_FIPS     Geo_GEOID                 Geo_NAME                Geo_QName  \\\n",
       "0      1001  05000US01001  Autauga County, Alabama  Autauga County, Alabama   \n",
       "1      1003  05000US01003  Baldwin County, Alabama  Baldwin County, Alabama   \n",
       "2      1005  05000US01005  Barbour County, Alabama  Barbour County, Alabama   \n",
       "3      1007  05000US01007     Bibb County, Alabama     Bibb County, Alabama   \n",
       "4      1009  05000US01009   Blount County, Alabama   Blount County, Alabama   \n",
       "\n",
       "  Geo_STUSAB  Geo_SUMLEV  Geo_GEOCOMP Geo_FILEID  Geo_LOGRECNO  Geo_US  \\\n",
       "0         al          50            0      ACSSF            13     NaN   \n",
       "1         al          50            0      ACSSF            14     NaN   \n",
       "2         al          50            0      ACSSF            15     NaN   \n",
       "3         al          50            0      ACSSF            16     NaN   \n",
       "4         al          50            0      ACSSF            17     NaN   \n",
       "\n",
       "      ...       Geo_PUMA1  SE_T001_001  SE_T002_001  SE_T002_002  SE_T002_003  \\\n",
       "0     ...             NaN        55136        55136     92.75346   594.436089   \n",
       "1     ...             NaN       191205       191205    120.27100  1589.784070   \n",
       "2     ...             NaN        27119        27119     30.64722   884.876304   \n",
       "3     ...             NaN        22653        22653     36.38555   622.582332   \n",
       "4     ...             NaN        57645        57645     89.40315   644.775905   \n",
       "\n",
       "   SE_T003_001  SE_T003_002  SE_T003_003  SE_T057_001  SE_T083_001  \n",
       "0     604.3882     594.4361     9.952067        52475        24644  \n",
       "1    2027.3110    1589.7840   437.527200        50183        26851  \n",
       "2     904.5153     884.8763    19.638980        35634        17350  \n",
       "3     626.1689     622.5823     3.586525        37984        18110  \n",
       "4     650.6282     644.7759     5.852321        44409        20501  \n",
       "\n",
       "[5 rows x 64 columns]"
      ]
     },
     "execution_count": 2,
     "metadata": {},
     "output_type": "execute_result"
    }
   ],
   "source": [
    "demographics = pd.read_csv('data/acs2014/R11460953_SL050.csv')\n",
    "demographics.head()"
   ]
  },
  {
   "cell_type": "markdown",
   "metadata": {},
   "source": [
    "Selecting requisite data from the dataframe and renaming the columns"
   ]
  },
  {
   "cell_type": "code",
   "execution_count": 4,
   "metadata": {
    "collapsed": false
   },
   "outputs": [
    {
     "data": {
      "text/plain": [
       "Index([u'Geo_FIPS', u'Geo_GEOID', u'Geo_NAME', u'Geo_QName', u'Geo_STUSAB',\n",
       "       u'Geo_SUMLEV', u'Geo_GEOCOMP', u'Geo_FILEID', u'Geo_LOGRECNO',\n",
       "       u'Geo_US', u'Geo_REGION', u'Geo_DIVISION', u'Geo_STATECE', u'Geo_STATE',\n",
       "       u'Geo_COUNTY', u'Geo_COUSUB', u'Geo_PLACE', u'Geo_PLACESE',\n",
       "       u'Geo_TRACT', u'Geo_BLKGRP', u'Geo_CONCIT', u'Geo_AIANHH',\n",
       "       u'Geo_AIANHHFP', u'Geo_AIHHTLI', u'Geo_AITSCE', u'Geo_AITS',\n",
       "       u'Geo_ANRC', u'Geo_CBSA', u'Geo_CSA', u'Geo_METDIV', u'Geo_MACC',\n",
       "       u'Geo_MEMI', u'Geo_NECTA', u'Geo_CNECTA', u'Geo_NECTADIV', u'Geo_UA',\n",
       "       u'Geo_UACP', u'Geo_CDCURR', u'Geo_SLDU', u'Geo_SLDL', u'Geo_VTD',\n",
       "       u'Geo_ZCTA3', u'Geo_ZCTA5', u'Geo_SUBMCD', u'Geo_SDELM', u'Geo_SDSEC',\n",
       "       u'Geo_SDUNI', u'Geo_UR', u'Geo_PCI', u'Geo_TAZ', u'Geo_UGA',\n",
       "       u'Geo_BTTR', u'Geo_BTBG', u'Geo_PUMA5', u'Geo_PUMA1', u'SE_T001_001',\n",
       "       u'SE_T002_001', u'SE_T002_002', u'SE_T002_003', u'SE_T003_001',\n",
       "       u'SE_T003_002', u'SE_T003_003', u'SE_T057_001', u'SE_T083_001'],\n",
       "      dtype='object')"
      ]
     },
     "execution_count": 4,
     "metadata": {},
     "output_type": "execute_result"
    }
   ],
   "source": [
    "demographics.columns"
   ]
  },
  {
   "cell_type": "code",
   "execution_count": 5,
   "metadata": {
    "collapsed": false
   },
   "outputs": [],
   "source": [
    "demographics = demographics[[ u'Geo_GEOID', u'Geo_NAME', u'Geo_QName', u'Geo_COUNTY',\\\n",
    "                             u'SE_T001_001', u'SE_T002_002', u'SE_T002_003', u'SE_T057_001', u'SE_T083_001']]\n",
    "\n",
    "demographics.rename(columns={u'SE_T001_001' : 'Population',\\\n",
    "                             u'SE_T002_002' : 'Population Density', \\\n",
    "                             u'SE_T002_003' : 'Area',\\\n",
    "                             u'SE_T057_001' : 'Median household income',\\\n",
    "                             u'SE_T083_001' : 'Per capita income'}, inplace=True)"
   ]
  },
  {
   "cell_type": "code",
   "execution_count": 6,
   "metadata": {
    "collapsed": false
   },
   "outputs": [
    {
     "data": {
      "text/html": [
       "<div>\n",
       "<table border=\"1\" class=\"dataframe\">\n",
       "  <thead>\n",
       "    <tr style=\"text-align: right;\">\n",
       "      <th></th>\n",
       "      <th>Geo_GEOID</th>\n",
       "      <th>Geo_NAME</th>\n",
       "      <th>Geo_QName</th>\n",
       "      <th>Geo_COUNTY</th>\n",
       "      <th>Population</th>\n",
       "      <th>Population Density</th>\n",
       "      <th>Area</th>\n",
       "      <th>Median household income</th>\n",
       "      <th>Per capita income</th>\n",
       "    </tr>\n",
       "  </thead>\n",
       "  <tbody>\n",
       "    <tr>\n",
       "      <th>0</th>\n",
       "      <td>05000US01001</td>\n",
       "      <td>Autauga County, Alabama</td>\n",
       "      <td>Autauga County, Alabama</td>\n",
       "      <td>1</td>\n",
       "      <td>55136</td>\n",
       "      <td>92.75346</td>\n",
       "      <td>594.436089</td>\n",
       "      <td>52475</td>\n",
       "      <td>24644</td>\n",
       "    </tr>\n",
       "    <tr>\n",
       "      <th>1</th>\n",
       "      <td>05000US01003</td>\n",
       "      <td>Baldwin County, Alabama</td>\n",
       "      <td>Baldwin County, Alabama</td>\n",
       "      <td>3</td>\n",
       "      <td>191205</td>\n",
       "      <td>120.27100</td>\n",
       "      <td>1589.784070</td>\n",
       "      <td>50183</td>\n",
       "      <td>26851</td>\n",
       "    </tr>\n",
       "    <tr>\n",
       "      <th>2</th>\n",
       "      <td>05000US01005</td>\n",
       "      <td>Barbour County, Alabama</td>\n",
       "      <td>Barbour County, Alabama</td>\n",
       "      <td>5</td>\n",
       "      <td>27119</td>\n",
       "      <td>30.64722</td>\n",
       "      <td>884.876304</td>\n",
       "      <td>35634</td>\n",
       "      <td>17350</td>\n",
       "    </tr>\n",
       "    <tr>\n",
       "      <th>3</th>\n",
       "      <td>05000US01007</td>\n",
       "      <td>Bibb County, Alabama</td>\n",
       "      <td>Bibb County, Alabama</td>\n",
       "      <td>7</td>\n",
       "      <td>22653</td>\n",
       "      <td>36.38555</td>\n",
       "      <td>622.582332</td>\n",
       "      <td>37984</td>\n",
       "      <td>18110</td>\n",
       "    </tr>\n",
       "    <tr>\n",
       "      <th>4</th>\n",
       "      <td>05000US01009</td>\n",
       "      <td>Blount County, Alabama</td>\n",
       "      <td>Blount County, Alabama</td>\n",
       "      <td>9</td>\n",
       "      <td>57645</td>\n",
       "      <td>89.40315</td>\n",
       "      <td>644.775905</td>\n",
       "      <td>44409</td>\n",
       "      <td>20501</td>\n",
       "    </tr>\n",
       "  </tbody>\n",
       "</table>\n",
       "</div>"
      ],
      "text/plain": [
       "      Geo_GEOID                 Geo_NAME                Geo_QName  Geo_COUNTY  \\\n",
       "0  05000US01001  Autauga County, Alabama  Autauga County, Alabama           1   \n",
       "1  05000US01003  Baldwin County, Alabama  Baldwin County, Alabama           3   \n",
       "2  05000US01005  Barbour County, Alabama  Barbour County, Alabama           5   \n",
       "3  05000US01007     Bibb County, Alabama     Bibb County, Alabama           7   \n",
       "4  05000US01009   Blount County, Alabama   Blount County, Alabama           9   \n",
       "\n",
       "   Population  Population Density         Area  Median household income  \\\n",
       "0       55136            92.75346   594.436089                    52475   \n",
       "1      191205           120.27100  1589.784070                    50183   \n",
       "2       27119            30.64722   884.876304                    35634   \n",
       "3       22653            36.38555   622.582332                    37984   \n",
       "4       57645            89.40315   644.775905                    44409   \n",
       "\n",
       "   Per capita income  \n",
       "0              24644  \n",
       "1              26851  \n",
       "2              17350  \n",
       "3              18110  \n",
       "4              20501  "
      ]
     },
     "execution_count": 6,
     "metadata": {},
     "output_type": "execute_result"
    }
   ],
   "source": [
    "demographics.head()"
   ]
  },
  {
   "cell_type": "code",
   "execution_count": 7,
   "metadata": {
    "collapsed": true
   },
   "outputs": [],
   "source": [
    "#extract state number for future use\n",
    "demographics['Geo_STATE']=demographics['Geo_GEOID'].apply(lambda x: x[-5:-3])"
   ]
  },
  {
   "cell_type": "code",
   "execution_count": 8,
   "metadata": {
    "collapsed": false
   },
   "outputs": [
    {
     "data": {
      "text/html": [
       "<div>\n",
       "<table border=\"1\" class=\"dataframe\">\n",
       "  <thead>\n",
       "    <tr style=\"text-align: right;\">\n",
       "      <th></th>\n",
       "      <th>Geo_GEOID</th>\n",
       "      <th>Geo_NAME</th>\n",
       "      <th>Geo_QName</th>\n",
       "      <th>Geo_COUNTY</th>\n",
       "      <th>Population</th>\n",
       "      <th>Population Density</th>\n",
       "      <th>Area</th>\n",
       "      <th>Median household income</th>\n",
       "      <th>Per capita income</th>\n",
       "      <th>Geo_STATE</th>\n",
       "    </tr>\n",
       "  </thead>\n",
       "  <tbody>\n",
       "    <tr>\n",
       "      <th>0</th>\n",
       "      <td>05000US01001</td>\n",
       "      <td>Autauga County, Alabama</td>\n",
       "      <td>Autauga County, Alabama</td>\n",
       "      <td>1</td>\n",
       "      <td>55136</td>\n",
       "      <td>92.75346</td>\n",
       "      <td>594.436089</td>\n",
       "      <td>52475</td>\n",
       "      <td>24644</td>\n",
       "      <td>01</td>\n",
       "    </tr>\n",
       "    <tr>\n",
       "      <th>1</th>\n",
       "      <td>05000US01003</td>\n",
       "      <td>Baldwin County, Alabama</td>\n",
       "      <td>Baldwin County, Alabama</td>\n",
       "      <td>3</td>\n",
       "      <td>191205</td>\n",
       "      <td>120.27100</td>\n",
       "      <td>1589.784070</td>\n",
       "      <td>50183</td>\n",
       "      <td>26851</td>\n",
       "      <td>01</td>\n",
       "    </tr>\n",
       "    <tr>\n",
       "      <th>2</th>\n",
       "      <td>05000US01005</td>\n",
       "      <td>Barbour County, Alabama</td>\n",
       "      <td>Barbour County, Alabama</td>\n",
       "      <td>5</td>\n",
       "      <td>27119</td>\n",
       "      <td>30.64722</td>\n",
       "      <td>884.876304</td>\n",
       "      <td>35634</td>\n",
       "      <td>17350</td>\n",
       "      <td>01</td>\n",
       "    </tr>\n",
       "    <tr>\n",
       "      <th>3</th>\n",
       "      <td>05000US01007</td>\n",
       "      <td>Bibb County, Alabama</td>\n",
       "      <td>Bibb County, Alabama</td>\n",
       "      <td>7</td>\n",
       "      <td>22653</td>\n",
       "      <td>36.38555</td>\n",
       "      <td>622.582332</td>\n",
       "      <td>37984</td>\n",
       "      <td>18110</td>\n",
       "      <td>01</td>\n",
       "    </tr>\n",
       "    <tr>\n",
       "      <th>4</th>\n",
       "      <td>05000US01009</td>\n",
       "      <td>Blount County, Alabama</td>\n",
       "      <td>Blount County, Alabama</td>\n",
       "      <td>9</td>\n",
       "      <td>57645</td>\n",
       "      <td>89.40315</td>\n",
       "      <td>644.775905</td>\n",
       "      <td>44409</td>\n",
       "      <td>20501</td>\n",
       "      <td>01</td>\n",
       "    </tr>\n",
       "  </tbody>\n",
       "</table>\n",
       "</div>"
      ],
      "text/plain": [
       "      Geo_GEOID                 Geo_NAME                Geo_QName  Geo_COUNTY  \\\n",
       "0  05000US01001  Autauga County, Alabama  Autauga County, Alabama           1   \n",
       "1  05000US01003  Baldwin County, Alabama  Baldwin County, Alabama           3   \n",
       "2  05000US01005  Barbour County, Alabama  Barbour County, Alabama           5   \n",
       "3  05000US01007     Bibb County, Alabama     Bibb County, Alabama           7   \n",
       "4  05000US01009   Blount County, Alabama   Blount County, Alabama           9   \n",
       "\n",
       "   Population  Population Density         Area  Median household income  \\\n",
       "0       55136            92.75346   594.436089                    52475   \n",
       "1      191205           120.27100  1589.784070                    50183   \n",
       "2       27119            30.64722   884.876304                    35634   \n",
       "3       22653            36.38555   622.582332                    37984   \n",
       "4       57645            89.40315   644.775905                    44409   \n",
       "\n",
       "   Per capita income Geo_STATE  \n",
       "0              24644        01  \n",
       "1              26851        01  \n",
       "2              17350        01  \n",
       "3              18110        01  \n",
       "4              20501        01  "
      ]
     },
     "execution_count": 8,
     "metadata": {},
     "output_type": "execute_result"
    }
   ],
   "source": [
    "demographics.head()"
   ]
  },
  {
   "cell_type": "code",
   "execution_count": 9,
   "metadata": {
    "collapsed": false
   },
   "outputs": [
    {
     "data": {
      "text/plain": [
       "317746049"
      ]
     },
     "execution_count": 9,
     "metadata": {},
     "output_type": "execute_result"
    }
   ],
   "source": [
    "#check the total population in the data\n",
    "sum(demographics.Population)"
   ]
  },
  {
   "cell_type": "code",
   "execution_count": 10,
   "metadata": {
    "collapsed": true
   },
   "outputs": [],
   "source": [
    "#add cumulative city income\n",
    "demographics['Income']=demographics.Population*demographics['Per capita income']"
   ]
  },
  {
   "cell_type": "markdown",
   "metadata": {},
   "source": [
    "### Loading crime data (FBI 2014 estimates) obtained from social explorer"
   ]
  },
  {
   "cell_type": "code",
   "execution_count": 11,
   "metadata": {
    "collapsed": false
   },
   "outputs": [
    {
     "data": {
      "text/html": [
       "<div>\n",
       "<table border=\"1\" class=\"dataframe\">\n",
       "  <thead>\n",
       "    <tr style=\"text-align: right;\">\n",
       "      <th></th>\n",
       "      <th>Geo_FIPS</th>\n",
       "      <th>Geo_NAME</th>\n",
       "      <th>Geo_QNAME</th>\n",
       "      <th>Geo_STATE</th>\n",
       "      <th>Geo_COUNTY</th>\n",
       "      <th>SE_T001_001</th>\n",
       "      <th>SE_T002_001</th>\n",
       "      <th>SE_T002_002</th>\n",
       "      <th>SE_T002_003</th>\n",
       "      <th>SE_T003_001</th>\n",
       "      <th>...</th>\n",
       "      <th>SE_T006_001</th>\n",
       "      <th>SE_T006_002</th>\n",
       "      <th>SE_T006_003</th>\n",
       "      <th>SE_T006_004</th>\n",
       "      <th>SE_T007_001</th>\n",
       "      <th>SE_T007_002</th>\n",
       "      <th>SE_T007_003</th>\n",
       "      <th>SE_T007_004</th>\n",
       "      <th>SE_T008_001</th>\n",
       "      <th>SE_T009_001</th>\n",
       "    </tr>\n",
       "  </thead>\n",
       "  <tbody>\n",
       "    <tr>\n",
       "      <th>0</th>\n",
       "      <td>01001</td>\n",
       "      <td>Autauga County</td>\n",
       "      <td>Autauga County, Alabama</td>\n",
       "      <td>1</td>\n",
       "      <td>001</td>\n",
       "      <td>55395.0</td>\n",
       "      <td>482</td>\n",
       "      <td>68</td>\n",
       "      <td>414</td>\n",
       "      <td>870.114631</td>\n",
       "      <td>...</td>\n",
       "      <td>414</td>\n",
       "      <td>170.0</td>\n",
       "      <td>199.0</td>\n",
       "      <td>45.0</td>\n",
       "      <td>747.359870</td>\n",
       "      <td>306.886903</td>\n",
       "      <td>359.238198</td>\n",
       "      <td>81.234768</td>\n",
       "      <td>NaN</td>\n",
       "      <td>NaN</td>\n",
       "    </tr>\n",
       "    <tr>\n",
       "      <th>1</th>\n",
       "      <td>01003</td>\n",
       "      <td>Baldwin County</td>\n",
       "      <td>Baldwin County, Alabama</td>\n",
       "      <td>1</td>\n",
       "      <td>003</td>\n",
       "      <td>200111.0</td>\n",
       "      <td>760</td>\n",
       "      <td>98</td>\n",
       "      <td>662</td>\n",
       "      <td>379.789217</td>\n",
       "      <td>...</td>\n",
       "      <td>662</td>\n",
       "      <td>230.0</td>\n",
       "      <td>405.0</td>\n",
       "      <td>27.0</td>\n",
       "      <td>330.816397</td>\n",
       "      <td>114.936210</td>\n",
       "      <td>202.387675</td>\n",
       "      <td>13.492512</td>\n",
       "      <td>NaN</td>\n",
       "      <td>NaN</td>\n",
       "    </tr>\n",
       "    <tr>\n",
       "      <th>2</th>\n",
       "      <td>01005</td>\n",
       "      <td>Barbour County</td>\n",
       "      <td>Barbour County, Alabama</td>\n",
       "      <td>1</td>\n",
       "      <td>005</td>\n",
       "      <td>26887.0</td>\n",
       "      <td>145</td>\n",
       "      <td>17</td>\n",
       "      <td>128</td>\n",
       "      <td>539.294083</td>\n",
       "      <td>...</td>\n",
       "      <td>128</td>\n",
       "      <td>68.0</td>\n",
       "      <td>55.0</td>\n",
       "      <td>5.0</td>\n",
       "      <td>476.066501</td>\n",
       "      <td>252.910328</td>\n",
       "      <td>204.559824</td>\n",
       "      <td>18.596348</td>\n",
       "      <td>NaN</td>\n",
       "      <td>NaN</td>\n",
       "    </tr>\n",
       "    <tr>\n",
       "      <th>3</th>\n",
       "      <td>01007</td>\n",
       "      <td>Bibb County</td>\n",
       "      <td>Bibb County, Alabama</td>\n",
       "      <td>1</td>\n",
       "      <td>007</td>\n",
       "      <td>22506.0</td>\n",
       "      <td>86</td>\n",
       "      <td>4</td>\n",
       "      <td>82</td>\n",
       "      <td>382.120323</td>\n",
       "      <td>...</td>\n",
       "      <td>82</td>\n",
       "      <td>42.0</td>\n",
       "      <td>34.0</td>\n",
       "      <td>6.0</td>\n",
       "      <td>364.347285</td>\n",
       "      <td>186.616902</td>\n",
       "      <td>151.070826</td>\n",
       "      <td>26.659557</td>\n",
       "      <td>NaN</td>\n",
       "      <td>NaN</td>\n",
       "    </tr>\n",
       "    <tr>\n",
       "      <th>4</th>\n",
       "      <td>01009</td>\n",
       "      <td>Blount County</td>\n",
       "      <td>Blount County, Alabama</td>\n",
       "      <td>1</td>\n",
       "      <td>009</td>\n",
       "      <td>57719.0</td>\n",
       "      <td>1013</td>\n",
       "      <td>90</td>\n",
       "      <td>923</td>\n",
       "      <td>1755.054661</td>\n",
       "      <td>...</td>\n",
       "      <td>923</td>\n",
       "      <td>311.0</td>\n",
       "      <td>524.0</td>\n",
       "      <td>88.0</td>\n",
       "      <td>1599.126804</td>\n",
       "      <td>538.817374</td>\n",
       "      <td>907.846636</td>\n",
       "      <td>152.462794</td>\n",
       "      <td>NaN</td>\n",
       "      <td>NaN</td>\n",
       "    </tr>\n",
       "  </tbody>\n",
       "</table>\n",
       "<p>5 rows × 34 columns</p>\n",
       "</div>"
      ],
      "text/plain": [
       "  Geo_FIPS        Geo_NAME                Geo_QNAME  Geo_STATE Geo_COUNTY  \\\n",
       "0    01001  Autauga County  Autauga County, Alabama          1        001   \n",
       "1    01003  Baldwin County  Baldwin County, Alabama          1        003   \n",
       "2    01005  Barbour County  Barbour County, Alabama          1        005   \n",
       "3    01007     Bibb County     Bibb County, Alabama          1        007   \n",
       "4    01009   Blount County   Blount County, Alabama          1        009   \n",
       "\n",
       "   SE_T001_001  SE_T002_001  SE_T002_002  SE_T002_003  SE_T003_001  \\\n",
       "0      55395.0          482           68          414   870.114631   \n",
       "1     200111.0          760           98          662   379.789217   \n",
       "2      26887.0          145           17          128   539.294083   \n",
       "3      22506.0           86            4           82   382.120323   \n",
       "4      57719.0         1013           90          923  1755.054661   \n",
       "\n",
       "      ...       SE_T006_001  SE_T006_002  SE_T006_003  SE_T006_004  \\\n",
       "0     ...               414        170.0        199.0         45.0   \n",
       "1     ...               662        230.0        405.0         27.0   \n",
       "2     ...               128         68.0         55.0          5.0   \n",
       "3     ...                82         42.0         34.0          6.0   \n",
       "4     ...               923        311.0        524.0         88.0   \n",
       "\n",
       "   SE_T007_001  SE_T007_002  SE_T007_003  SE_T007_004  SE_T008_001  \\\n",
       "0   747.359870   306.886903   359.238198    81.234768          NaN   \n",
       "1   330.816397   114.936210   202.387675    13.492512          NaN   \n",
       "2   476.066501   252.910328   204.559824    18.596348          NaN   \n",
       "3   364.347285   186.616902   151.070826    26.659557          NaN   \n",
       "4  1599.126804   538.817374   907.846636   152.462794          NaN   \n",
       "\n",
       "   SE_T009_001  \n",
       "0          NaN  \n",
       "1          NaN  \n",
       "2          NaN  \n",
       "3          NaN  \n",
       "4          NaN  \n",
       "\n",
       "[5 rows x 34 columns]"
      ]
     },
     "execution_count": 11,
     "metadata": {},
     "output_type": "execute_result"
    }
   ],
   "source": [
    "crime2014 = pd.read_csv('data/crime2014/R11460954_SL050.csv')\n",
    "crime2014.head()"
   ]
  },
  {
   "cell_type": "code",
   "execution_count": 12,
   "metadata": {
    "collapsed": false
   },
   "outputs": [
    {
     "data": {
      "text/plain": [
       "Index([u'Geo_FIPS', u'Geo_NAME', u'Geo_QNAME', u'Geo_STATE', u'Geo_COUNTY',\n",
       "       u'SE_T001_001', u'SE_T002_001', u'SE_T002_002', u'SE_T002_003',\n",
       "       u'SE_T003_001', u'SE_T003_002', u'SE_T003_003', u'SE_T004_001',\n",
       "       u'SE_T004_002', u'SE_T004_003', u'SE_T004_004', u'SE_T004_005',\n",
       "       u'SE_T004_006', u'SE_T005_001', u'SE_T005_002', u'SE_T005_003',\n",
       "       u'SE_T005_004', u'SE_T005_005', u'SE_T005_006', u'SE_T006_001',\n",
       "       u'SE_T006_002', u'SE_T006_003', u'SE_T006_004', u'SE_T007_001',\n",
       "       u'SE_T007_002', u'SE_T007_003', u'SE_T007_004', u'SE_T008_001',\n",
       "       u'SE_T009_001'],\n",
       "      dtype='object')"
      ]
     },
     "execution_count": 12,
     "metadata": {},
     "output_type": "execute_result"
    }
   ],
   "source": [
    "crime2014.columns"
   ]
  },
  {
   "cell_type": "code",
   "execution_count": 13,
   "metadata": {
    "collapsed": false
   },
   "outputs": [],
   "source": [
    "crime2014.rename(columns = { u'SE_T001_001' : 'Population',\\\n",
    "                             u'SE_T002_001' : 'Crimes',\\\n",
    "                          u'SE_T002_002' : 'Violent Crimes', \\\n",
    "                          u'SE_T002_003' : 'Property Crimes' }, inplace=True)\n",
    "\n",
    "crime2014 = crime2014[[u'Geo_FIPS', u'Geo_NAME', u'Geo_QNAME', u'Geo_STATE', u'Geo_COUNTY', 'Population', 'Crimes' , 'Violent Crimes', 'Property Crimes']]"
   ]
  },
  {
   "cell_type": "code",
   "execution_count": 14,
   "metadata": {
    "collapsed": false
   },
   "outputs": [
    {
     "data": {
      "text/plain": [
       "250424654.0"
      ]
     },
     "execution_count": 14,
     "metadata": {},
     "output_type": "execute_result"
    }
   ],
   "source": [
    "#the dataset does not cover entire country\n",
    "sum(crime2014.Population)"
   ]
  },
  {
   "cell_type": "code",
   "execution_count": 15,
   "metadata": {
    "collapsed": false
   },
   "outputs": [
    {
     "data": {
      "text/html": [
       "<div>\n",
       "<table border=\"1\" class=\"dataframe\">\n",
       "  <thead>\n",
       "    <tr style=\"text-align: right;\">\n",
       "      <th></th>\n",
       "      <th>Geo_FIPS</th>\n",
       "      <th>Geo_NAME</th>\n",
       "      <th>Geo_QNAME</th>\n",
       "      <th>Geo_STATE</th>\n",
       "      <th>Geo_COUNTY</th>\n",
       "      <th>Population</th>\n",
       "      <th>Crimes</th>\n",
       "      <th>Violent Crimes</th>\n",
       "      <th>Property Crimes</th>\n",
       "    </tr>\n",
       "  </thead>\n",
       "  <tbody>\n",
       "    <tr>\n",
       "      <th>0</th>\n",
       "      <td>01001</td>\n",
       "      <td>Autauga County</td>\n",
       "      <td>Autauga County, Alabama</td>\n",
       "      <td>1</td>\n",
       "      <td>001</td>\n",
       "      <td>55395.0</td>\n",
       "      <td>482</td>\n",
       "      <td>68</td>\n",
       "      <td>414</td>\n",
       "    </tr>\n",
       "    <tr>\n",
       "      <th>1</th>\n",
       "      <td>01003</td>\n",
       "      <td>Baldwin County</td>\n",
       "      <td>Baldwin County, Alabama</td>\n",
       "      <td>1</td>\n",
       "      <td>003</td>\n",
       "      <td>200111.0</td>\n",
       "      <td>760</td>\n",
       "      <td>98</td>\n",
       "      <td>662</td>\n",
       "    </tr>\n",
       "    <tr>\n",
       "      <th>2</th>\n",
       "      <td>01005</td>\n",
       "      <td>Barbour County</td>\n",
       "      <td>Barbour County, Alabama</td>\n",
       "      <td>1</td>\n",
       "      <td>005</td>\n",
       "      <td>26887.0</td>\n",
       "      <td>145</td>\n",
       "      <td>17</td>\n",
       "      <td>128</td>\n",
       "    </tr>\n",
       "    <tr>\n",
       "      <th>3</th>\n",
       "      <td>01007</td>\n",
       "      <td>Bibb County</td>\n",
       "      <td>Bibb County, Alabama</td>\n",
       "      <td>1</td>\n",
       "      <td>007</td>\n",
       "      <td>22506.0</td>\n",
       "      <td>86</td>\n",
       "      <td>4</td>\n",
       "      <td>82</td>\n",
       "    </tr>\n",
       "    <tr>\n",
       "      <th>4</th>\n",
       "      <td>01009</td>\n",
       "      <td>Blount County</td>\n",
       "      <td>Blount County, Alabama</td>\n",
       "      <td>1</td>\n",
       "      <td>009</td>\n",
       "      <td>57719.0</td>\n",
       "      <td>1013</td>\n",
       "      <td>90</td>\n",
       "      <td>923</td>\n",
       "    </tr>\n",
       "  </tbody>\n",
       "</table>\n",
       "</div>"
      ],
      "text/plain": [
       "  Geo_FIPS        Geo_NAME                Geo_QNAME  Geo_STATE Geo_COUNTY  \\\n",
       "0    01001  Autauga County  Autauga County, Alabama          1        001   \n",
       "1    01003  Baldwin County  Baldwin County, Alabama          1        003   \n",
       "2    01005  Barbour County  Barbour County, Alabama          1        005   \n",
       "3    01007     Bibb County     Bibb County, Alabama          1        007   \n",
       "4    01009   Blount County   Blount County, Alabama          1        009   \n",
       "\n",
       "   Population  Crimes  Violent Crimes  Property Crimes  \n",
       "0     55395.0     482              68              414  \n",
       "1    200111.0     760              98              662  \n",
       "2     26887.0     145              17              128  \n",
       "3     22506.0      86               4               82  \n",
       "4     57719.0    1013              90              923  "
      ]
     },
     "execution_count": 15,
     "metadata": {},
     "output_type": "execute_result"
    }
   ],
   "source": [
    "crime2014.head()"
   ]
  },
  {
   "cell_type": "markdown",
   "metadata": {},
   "source": [
    "#### Merging dataframes on GeoID (GeoID is used to uniquely identify a geographical location by the census bureau) for further analysis where crime and demographics are needed together"
   ]
  },
  {
   "cell_type": "code",
   "execution_count": 16,
   "metadata": {
    "collapsed": false
   },
   "outputs": [
    {
     "data": {
      "text/html": [
       "<div>\n",
       "<table border=\"1\" class=\"dataframe\">\n",
       "  <thead>\n",
       "    <tr style=\"text-align: right;\">\n",
       "      <th></th>\n",
       "      <th>Geo_GEOID</th>\n",
       "      <th>Geo_NAME_x</th>\n",
       "      <th>Geo_QName</th>\n",
       "      <th>Geo_COUNTY_x</th>\n",
       "      <th>Population_x</th>\n",
       "      <th>Population Density</th>\n",
       "      <th>Area</th>\n",
       "      <th>Median household income</th>\n",
       "      <th>Per capita income</th>\n",
       "      <th>Geo_STATE_x</th>\n",
       "      <th>Income</th>\n",
       "      <th>Geo_FIPS</th>\n",
       "      <th>Geo_NAME_y</th>\n",
       "      <th>Geo_QNAME</th>\n",
       "      <th>Geo_STATE_y</th>\n",
       "      <th>Geo_COUNTY_y</th>\n",
       "      <th>Population_y</th>\n",
       "      <th>Crimes</th>\n",
       "      <th>Violent Crimes</th>\n",
       "      <th>Property Crimes</th>\n",
       "    </tr>\n",
       "  </thead>\n",
       "  <tbody>\n",
       "    <tr>\n",
       "      <th>0</th>\n",
       "      <td>05000US01001</td>\n",
       "      <td>Autauga County, Alabama</td>\n",
       "      <td>Autauga County, Alabama</td>\n",
       "      <td>1</td>\n",
       "      <td>55136</td>\n",
       "      <td>92.75346</td>\n",
       "      <td>594.436089</td>\n",
       "      <td>52475</td>\n",
       "      <td>24644</td>\n",
       "      <td>01</td>\n",
       "      <td>1358771584</td>\n",
       "      <td>01001</td>\n",
       "      <td>Autauga County</td>\n",
       "      <td>Autauga County, Alabama</td>\n",
       "      <td>1</td>\n",
       "      <td>001</td>\n",
       "      <td>55395.0</td>\n",
       "      <td>482</td>\n",
       "      <td>68</td>\n",
       "      <td>414</td>\n",
       "    </tr>\n",
       "    <tr>\n",
       "      <th>1</th>\n",
       "      <td>05000US01003</td>\n",
       "      <td>Baldwin County, Alabama</td>\n",
       "      <td>Baldwin County, Alabama</td>\n",
       "      <td>3</td>\n",
       "      <td>191205</td>\n",
       "      <td>120.27100</td>\n",
       "      <td>1589.784070</td>\n",
       "      <td>50183</td>\n",
       "      <td>26851</td>\n",
       "      <td>01</td>\n",
       "      <td>5134045455</td>\n",
       "      <td>01003</td>\n",
       "      <td>Baldwin County</td>\n",
       "      <td>Baldwin County, Alabama</td>\n",
       "      <td>1</td>\n",
       "      <td>003</td>\n",
       "      <td>200111.0</td>\n",
       "      <td>760</td>\n",
       "      <td>98</td>\n",
       "      <td>662</td>\n",
       "    </tr>\n",
       "    <tr>\n",
       "      <th>2</th>\n",
       "      <td>05000US01005</td>\n",
       "      <td>Barbour County, Alabama</td>\n",
       "      <td>Barbour County, Alabama</td>\n",
       "      <td>5</td>\n",
       "      <td>27119</td>\n",
       "      <td>30.64722</td>\n",
       "      <td>884.876304</td>\n",
       "      <td>35634</td>\n",
       "      <td>17350</td>\n",
       "      <td>01</td>\n",
       "      <td>470514650</td>\n",
       "      <td>01005</td>\n",
       "      <td>Barbour County</td>\n",
       "      <td>Barbour County, Alabama</td>\n",
       "      <td>1</td>\n",
       "      <td>005</td>\n",
       "      <td>26887.0</td>\n",
       "      <td>145</td>\n",
       "      <td>17</td>\n",
       "      <td>128</td>\n",
       "    </tr>\n",
       "    <tr>\n",
       "      <th>3</th>\n",
       "      <td>05000US01007</td>\n",
       "      <td>Bibb County, Alabama</td>\n",
       "      <td>Bibb County, Alabama</td>\n",
       "      <td>7</td>\n",
       "      <td>22653</td>\n",
       "      <td>36.38555</td>\n",
       "      <td>622.582332</td>\n",
       "      <td>37984</td>\n",
       "      <td>18110</td>\n",
       "      <td>01</td>\n",
       "      <td>410245830</td>\n",
       "      <td>01007</td>\n",
       "      <td>Bibb County</td>\n",
       "      <td>Bibb County, Alabama</td>\n",
       "      <td>1</td>\n",
       "      <td>007</td>\n",
       "      <td>22506.0</td>\n",
       "      <td>86</td>\n",
       "      <td>4</td>\n",
       "      <td>82</td>\n",
       "    </tr>\n",
       "    <tr>\n",
       "      <th>4</th>\n",
       "      <td>05000US01009</td>\n",
       "      <td>Blount County, Alabama</td>\n",
       "      <td>Blount County, Alabama</td>\n",
       "      <td>9</td>\n",
       "      <td>57645</td>\n",
       "      <td>89.40315</td>\n",
       "      <td>644.775905</td>\n",
       "      <td>44409</td>\n",
       "      <td>20501</td>\n",
       "      <td>01</td>\n",
       "      <td>1181780145</td>\n",
       "      <td>01009</td>\n",
       "      <td>Blount County</td>\n",
       "      <td>Blount County, Alabama</td>\n",
       "      <td>1</td>\n",
       "      <td>009</td>\n",
       "      <td>57719.0</td>\n",
       "      <td>1013</td>\n",
       "      <td>90</td>\n",
       "      <td>923</td>\n",
       "    </tr>\n",
       "  </tbody>\n",
       "</table>\n",
       "</div>"
      ],
      "text/plain": [
       "      Geo_GEOID               Geo_NAME_x                Geo_QName  \\\n",
       "0  05000US01001  Autauga County, Alabama  Autauga County, Alabama   \n",
       "1  05000US01003  Baldwin County, Alabama  Baldwin County, Alabama   \n",
       "2  05000US01005  Barbour County, Alabama  Barbour County, Alabama   \n",
       "3  05000US01007     Bibb County, Alabama     Bibb County, Alabama   \n",
       "4  05000US01009   Blount County, Alabama   Blount County, Alabama   \n",
       "\n",
       "   Geo_COUNTY_x  Population_x  Population Density         Area  \\\n",
       "0             1         55136            92.75346   594.436089   \n",
       "1             3        191205           120.27100  1589.784070   \n",
       "2             5         27119            30.64722   884.876304   \n",
       "3             7         22653            36.38555   622.582332   \n",
       "4             9         57645            89.40315   644.775905   \n",
       "\n",
       "   Median household income  Per capita income Geo_STATE_x      Income  \\\n",
       "0                    52475              24644          01  1358771584   \n",
       "1                    50183              26851          01  5134045455   \n",
       "2                    35634              17350          01   470514650   \n",
       "3                    37984              18110          01   410245830   \n",
       "4                    44409              20501          01  1181780145   \n",
       "\n",
       "  Geo_FIPS      Geo_NAME_y                Geo_QNAME  Geo_STATE_y Geo_COUNTY_y  \\\n",
       "0    01001  Autauga County  Autauga County, Alabama            1          001   \n",
       "1    01003  Baldwin County  Baldwin County, Alabama            1          003   \n",
       "2    01005  Barbour County  Barbour County, Alabama            1          005   \n",
       "3    01007     Bibb County     Bibb County, Alabama            1          007   \n",
       "4    01009   Blount County   Blount County, Alabama            1          009   \n",
       "\n",
       "   Population_y  Crimes  Violent Crimes  Property Crimes  \n",
       "0       55395.0     482              68              414  \n",
       "1      200111.0     760              98              662  \n",
       "2       26887.0     145              17              128  \n",
       "3       22506.0      86               4               82  \n",
       "4       57719.0    1013              90              923  "
      ]
     },
     "execution_count": 16,
     "metadata": {},
     "output_type": "execute_result"
    }
   ],
   "source": [
    "demographics['Geo_FIPS'] = demographics.Geo_GEOID.apply(lambda x: x[-5:]) #ensure consistent formatting of the geo id\n",
    "df = pd.merge(demographics, crime2014, on='Geo_FIPS', how='inner') \n",
    "df.head()"
   ]
  },
  {
   "cell_type": "code",
   "execution_count": 17,
   "metadata": {
    "collapsed": false
   },
   "outputs": [
    {
     "data": {
      "text/html": [
       "<div>\n",
       "<table border=\"1\" class=\"dataframe\">\n",
       "  <thead>\n",
       "    <tr style=\"text-align: right;\">\n",
       "      <th></th>\n",
       "      <th>Population</th>\n",
       "      <th>Area</th>\n",
       "      <th>Crimes</th>\n",
       "      <th>Violent Crimes</th>\n",
       "      <th>Property Crimes</th>\n",
       "      <th>Income</th>\n",
       "      <th>Per capita income</th>\n",
       "    </tr>\n",
       "  </thead>\n",
       "  <tbody>\n",
       "    <tr>\n",
       "      <th>0</th>\n",
       "      <td>55136</td>\n",
       "      <td>594.436089</td>\n",
       "      <td>482</td>\n",
       "      <td>68</td>\n",
       "      <td>414</td>\n",
       "      <td>1358771584</td>\n",
       "      <td>24644</td>\n",
       "    </tr>\n",
       "    <tr>\n",
       "      <th>1</th>\n",
       "      <td>191205</td>\n",
       "      <td>1589.784070</td>\n",
       "      <td>760</td>\n",
       "      <td>98</td>\n",
       "      <td>662</td>\n",
       "      <td>5134045455</td>\n",
       "      <td>26851</td>\n",
       "    </tr>\n",
       "    <tr>\n",
       "      <th>2</th>\n",
       "      <td>27119</td>\n",
       "      <td>884.876304</td>\n",
       "      <td>145</td>\n",
       "      <td>17</td>\n",
       "      <td>128</td>\n",
       "      <td>470514650</td>\n",
       "      <td>17350</td>\n",
       "    </tr>\n",
       "    <tr>\n",
       "      <th>3</th>\n",
       "      <td>22653</td>\n",
       "      <td>622.582332</td>\n",
       "      <td>86</td>\n",
       "      <td>4</td>\n",
       "      <td>82</td>\n",
       "      <td>410245830</td>\n",
       "      <td>18110</td>\n",
       "    </tr>\n",
       "    <tr>\n",
       "      <th>4</th>\n",
       "      <td>57645</td>\n",
       "      <td>644.775905</td>\n",
       "      <td>1013</td>\n",
       "      <td>90</td>\n",
       "      <td>923</td>\n",
       "      <td>1181780145</td>\n",
       "      <td>20501</td>\n",
       "    </tr>\n",
       "  </tbody>\n",
       "</table>\n",
       "</div>"
      ],
      "text/plain": [
       "   Population         Area  Crimes  Violent Crimes  Property Crimes  \\\n",
       "0       55136   594.436089     482              68              414   \n",
       "1      191205  1589.784070     760              98              662   \n",
       "2       27119   884.876304     145              17              128   \n",
       "3       22653   622.582332      86               4               82   \n",
       "4       57645   644.775905    1013              90              923   \n",
       "\n",
       "       Income  Per capita income  \n",
       "0  1358771584              24644  \n",
       "1  5134045455              26851  \n",
       "2   470514650              17350  \n",
       "3   410245830              18110  \n",
       "4  1181780145              20501  "
      ]
     },
     "execution_count": 17,
     "metadata": {},
     "output_type": "execute_result"
    }
   ],
   "source": [
    "#select filed needed for the analysis\n",
    "df=df[['Population_x','Area','Crimes','Violent Crimes','Property Crimes','Income', 'Per capita income']]\n",
    "df.rename(columns = { 'Population_x' : 'Population' }, inplace=True)\n",
    "df.head()"
   ]
  },
  {
   "cell_type": "markdown",
   "metadata": {},
   "source": [
    "## Q1. Relations between Crime, Wealth and Density (county-level)"
   ]
  },
  {
   "cell_type": "markdown",
   "metadata": {},
   "source": [
    "Q11. Run a linear regression of total Crime and total Income against population (without intercept). Visulize the data (scatter plots) and regression fit"
   ]
  },
  {
   "cell_type": "markdown",
   "metadata": {},
   "source": [
    "Q12. Analyze correlations between income per capita, population density, crime per capita, fraction of violent crime"
   ]
  },
  {
   "cell_type": "markdown",
   "metadata": {},
   "source": [
    "## Q2 Visualize characteristics of states\n",
    "### Q2.1 Visualize income and population density per state"
   ]
  },
  {
   "cell_type": "markdown",
   "metadata": {},
   "source": [
    "Aggregate demographics data per state"
   ]
  },
  {
   "cell_type": "code",
   "execution_count": 18,
   "metadata": {
    "collapsed": false
   },
   "outputs": [],
   "source": [
    "states = demographics.groupby(by='Geo_STATE').sum().loc[:,[u'Population', u'Area', \\\n",
    "                                                 u'Income']]\n",
    "\n",
    "states.reset_index(inplace=True)"
   ]
  },
  {
   "cell_type": "code",
   "execution_count": 19,
   "metadata": {
    "collapsed": false
   },
   "outputs": [
    {
     "data": {
      "text/html": [
       "<div>\n",
       "<table border=\"1\" class=\"dataframe\">\n",
       "  <thead>\n",
       "    <tr style=\"text-align: right;\">\n",
       "      <th></th>\n",
       "      <th>Geo_STATE</th>\n",
       "      <th>Population</th>\n",
       "      <th>Area</th>\n",
       "      <th>Income</th>\n",
       "    </tr>\n",
       "  </thead>\n",
       "  <tbody>\n",
       "    <tr>\n",
       "      <th>0</th>\n",
       "      <td>01</td>\n",
       "      <td>4817678</td>\n",
       "      <td>50645.326381</td>\n",
       "      <td>115316134026</td>\n",
       "    </tr>\n",
       "    <tr>\n",
       "      <th>1</th>\n",
       "      <td>02</td>\n",
       "      <td>728300</td>\n",
       "      <td>570640.949601</td>\n",
       "      <td>24128028977</td>\n",
       "    </tr>\n",
       "    <tr>\n",
       "      <th>2</th>\n",
       "      <td>04</td>\n",
       "      <td>6561516</td>\n",
       "      <td>113594.083902</td>\n",
       "      <td>167558784896</td>\n",
       "    </tr>\n",
       "    <tr>\n",
       "      <th>3</th>\n",
       "      <td>05</td>\n",
       "      <td>2947036</td>\n",
       "      <td>52035.476971</td>\n",
       "      <td>66589385271</td>\n",
       "    </tr>\n",
       "    <tr>\n",
       "      <th>4</th>\n",
       "      <td>06</td>\n",
       "      <td>38066920</td>\n",
       "      <td>155779.218854</td>\n",
       "      <td>1138429083472</td>\n",
       "    </tr>\n",
       "  </tbody>\n",
       "</table>\n",
       "</div>"
      ],
      "text/plain": [
       "  Geo_STATE  Population           Area         Income\n",
       "0        01     4817678   50645.326381   115316134026\n",
       "1        02      728300  570640.949601    24128028977\n",
       "2        04     6561516  113594.083902   167558784896\n",
       "3        05     2947036   52035.476971    66589385271\n",
       "4        06    38066920  155779.218854  1138429083472"
      ]
     },
     "execution_count": 19,
     "metadata": {},
     "output_type": "execute_result"
    }
   ],
   "source": [
    "states.head()"
   ]
  },
  {
   "cell_type": "code",
   "execution_count": 20,
   "metadata": {
    "collapsed": false
   },
   "outputs": [],
   "source": [
    "#function for vusualizing spatial data (heatmap)\n",
    "#import libraries for handing shapefiles\n",
    "import shapefile as shp\n",
    "from shapely.geometry.polygon import Polygon\n",
    "from descartes import PolygonPatch\n",
    "\n",
    "sf = shp.Reader('data/USA_adm/USA_states_reduced.shp')\n",
    "sf_records=sf.records()\n",
    "sf_shape=sf.shapeRecords()\n",
    "\n",
    "#for plotting our result\n",
    "def plot_spatial_distribution(x,t,logscale,n=200):\n",
    "    # x - quantity to visualize, t - title, n - color granularity\n",
    "    center=[]\n",
    "    cmap = plt.cm.cool(np.linspace(0,1,n+1))\n",
    "    \n",
    "    if logscale:\n",
    "      v2=np.log(max(x))\n",
    "      v1=np.log(min(x))\n",
    "    else:\n",
    "      v2=max(x)\n",
    "      v1=min(x)\n",
    "\n",
    "    fig = plt.figure(figsize = (15,10)) \n",
    "    ax = fig.gca() \n",
    "    for s in range(0,len(sf_records)):\n",
    "            v = x[s]\n",
    "            if logscale:\n",
    "              k = int((np.log(v)-v1)/(v2-v1)*n) # for the log-scale\n",
    "            else:\n",
    "              k = int(1.0*(v-v1)/(v2-v1)*n)\n",
    "            c=cmap[k][0:3]\n",
    "\n",
    "            shape=sf_shape[s]\n",
    "            x_ = [i[0] for i in shape.shape.points[:]]\n",
    "            y_ = [i[1] for i in shape.shape.points[:]]\n",
    "            poly=Polygon(zip(x_,y_))\n",
    "            temp=[poly.centroid.x,poly.centroid.y,k]\n",
    "            center.append(temp)\n",
    "\n",
    "            ax.add_patch(PolygonPatch(poly, fc=c,ec=\"k\", alpha=1, zorder=2 ))\n",
    "    center=pd.DataFrame(center)\n",
    "    center.columns=[\"x\",\"y\",\"z\"]\n",
    "    sc = plt.scatter(center.x, center.y,c=list(center.z),cmap=plt.cm.cool)\n",
    "    #plt.colorbar(sc)\n",
    "    plt.title(\"Spatial distribution of \"+t)\n",
    "    plt.show()"
   ]
  },
  {
   "cell_type": "code",
   "execution_count": 21,
   "metadata": {
    "collapsed": false
   },
   "outputs": [
    {
     "data": {
      "image/png": "[encoded data removed]",
      "text/plain": [
       "<matplotlib.figure.Figure at 0x1095caf50>"
      ]
     },
     "metadata": {},
     "output_type": "display_data"
    }
   ],
   "source": [
    "Density=states.Population/states.Area\n",
    "plot_spatial_distribution(Density,'density',1)"
   ]
  },
  {
   "cell_type": "code",
   "execution_count": 22,
   "metadata": {
    "collapsed": false
   },
   "outputs": [
    {
     "data": {
      "image/png": "[encoded data removed]",
      "text/plain": [
       "<matplotlib.figure.Figure at 0x109591dd0>"
      ]
     },
     "metadata": {},
     "output_type": "display_data"
    }
   ],
   "source": [
    "Wealth=states.Income/states.Population\n",
    "plot_spatial_distribution(Wealth,'wealth',0)"
   ]
  },
  {
   "cell_type": "markdown",
   "metadata": {},
   "source": [
    "### Q2.2. Report top 5 and last 5 states by population density and income per capita"
   ]
  },
  {
   "cell_type": "markdown",
   "metadata": {},
   "source": [
    "### Q2.3. Compute and visualize crime per capita and fraction of violent crimes per state. Report top and last 5 states in each"
   ]
  },
  {
   "cell_type": "code",
   "execution_count": null,
   "metadata": {
    "collapsed": true
   },
   "outputs": [],
   "source": []
  },
  {
   "cell_type": "code",
   "execution_count": null,
   "metadata": {
    "collapsed": true
   },
   "outputs": [],
   "source": []
  },
  {
   "cell_type": "markdown",
   "metadata": {},
   "source": [
    "## Q3 Urban scaling laws"
   ]
  },
  {
   "cell_type": "markdown",
   "metadata": {},
   "source": [
    "### Q3.1. Aggregate demographics and crime by MSA (separately)"
   ]
  },
  {
   "cell_type": "code",
   "execution_count": 23,
   "metadata": {
    "collapsed": false,
    "scrolled": true
   },
   "outputs": [
    {
     "data": {
      "text/html": [
       "<div>\n",
       "<table border=\"1\" class=\"dataframe\">\n",
       "  <thead>\n",
       "    <tr style=\"text-align: right;\">\n",
       "      <th></th>\n",
       "      <th>msa</th>\n",
       "      <th>msa_name</th>\n",
       "      <th>Geo_FIPS</th>\n",
       "      <th>county</th>\n",
       "    </tr>\n",
       "  </thead>\n",
       "  <tbody>\n",
       "    <tr>\n",
       "      <th>0</th>\n",
       "      <td>10180</td>\n",
       "      <td>Abilene, TX (Metropolitan Statistical Area)</td>\n",
       "      <td>48059</td>\n",
       "      <td>Callahan, TX</td>\n",
       "    </tr>\n",
       "    <tr>\n",
       "      <th>1</th>\n",
       "      <td>10180</td>\n",
       "      <td>Abilene, TX (Metropolitan Statistical Area)</td>\n",
       "      <td>48253</td>\n",
       "      <td>Jones, TX</td>\n",
       "    </tr>\n",
       "    <tr>\n",
       "      <th>2</th>\n",
       "      <td>10180</td>\n",
       "      <td>Abilene, TX (Metropolitan Statistical Area)</td>\n",
       "      <td>48441</td>\n",
       "      <td>Taylor, TX</td>\n",
       "    </tr>\n",
       "    <tr>\n",
       "      <th>3</th>\n",
       "      <td>10420</td>\n",
       "      <td>Akron, OH (Metropolitan Statistical Area)</td>\n",
       "      <td>39133</td>\n",
       "      <td>Portage, OH</td>\n",
       "    </tr>\n",
       "    <tr>\n",
       "      <th>4</th>\n",
       "      <td>10420</td>\n",
       "      <td>Akron, OH (Metropolitan Statistical Area)</td>\n",
       "      <td>39153</td>\n",
       "      <td>Summit, OH</td>\n",
       "    </tr>\n",
       "  </tbody>\n",
       "</table>\n",
       "</div>"
      ],
      "text/plain": [
       "     msa                                     msa_name  Geo_FIPS        county\n",
       "0  10180  Abilene, TX (Metropolitan Statistical Area)     48059  Callahan, TX\n",
       "1  10180  Abilene, TX (Metropolitan Statistical Area)     48253     Jones, TX\n",
       "2  10180  Abilene, TX (Metropolitan Statistical Area)     48441    Taylor, TX\n",
       "3  10420    Akron, OH (Metropolitan Statistical Area)     39133   Portage, OH\n",
       "4  10420    Akron, OH (Metropolitan Statistical Area)     39153    Summit, OH"
      ]
     },
     "execution_count": 23,
     "metadata": {},
     "output_type": "execute_result"
    }
   ],
   "source": [
    "msa = pd.read_csv('data/msalist.csv')\n",
    "msa.head()"
   ]
  },
  {
   "cell_type": "markdown",
   "metadata": {},
   "source": [
    "### Q3.2. Establish a scaling relationship $Y\\sim C X^q$ between total income and population. Visualize on the log scale. Does $q=1$ fall into the confidence interval?  "
   ]
  },
  {
   "cell_type": "markdown",
   "metadata": {},
   "source": [
    "### Q3.3. Find the top 5 cities overperforming and underperforming cities by income (by log-scale difference from the trend)"
   ]
  },
  {
   "cell_type": "markdown",
   "metadata": {},
   "source": [
    "### Q3.4.Establish a scaling relationship $Y\\sim C X^q$ between total, violent and property crime vs population. Visualize on the log scale. Does $q=1$ fall into the confidence interval? Find top 5 and last 5 cities by crime "
   ]
  },
  {
   "cell_type": "markdown",
   "metadata": {},
   "source": [
    "### Q3.5. Is there any relationship between residual by wealth and residual by crime?"
   ]
  }
 ],
 "metadata": {
  "kernelspec": {
   "display_name": "Python 2",
   "language": "python",
   "name": "python2"
  },
  "language_info": {
   "codemirror_mode": {
    "name": "ipython",
    "version": 2
   },
   "file_extension": ".py",
   "mimetype": "text/x-python",
   "name": "python",
   "nbconvert_exporter": "python",
   "pygments_lexer": "ipython2",
   "version": "2.7.10"
  }
 },
 "nbformat": 4,
 "nbformat_minor": 2
}
